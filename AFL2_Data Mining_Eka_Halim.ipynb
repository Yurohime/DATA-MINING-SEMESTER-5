{
 "cells": [
  {
   "cell_type": "markdown",
   "metadata": {
    "id": "WwPdHlwOFBXS"
   },
   "source": [
    "## Exercise 2 : Clustering Method\n",
    "In this exercise we will explore how each clustering algorithm discussed in the class works."
   ]
  },
  {
   "cell_type": "markdown",
   "metadata": {
    "id": "7_llGj-cFj11"
   },
   "source": [
    "### Import Library"
   ]
  },
  {
   "cell_type": "markdown",
   "metadata": {
    "id": "Q93i8D5M3orJ"
   },
   "source": [
    "Import the necessary libraries"
   ]
  },
  {
   "cell_type": "code",
   "execution_count": 2,
   "metadata": {
    "colab": {
     "base_uri": "https://localhost:8080/"
    },
    "id": "InthM3ox1VA1",
    "outputId": "20cadf95-7423-4753-e269-2f7c3660b50b"
   },
   "outputs": [
    {
     "name": "stdout",
     "output_type": "stream",
     "text": [
      "Requirement already satisfied: kneed in c:\\users\\ekasu\\anaconda3\\lib\\site-packages (0.8.5)\n",
      "Requirement already satisfied: numpy>=1.14.2 in c:\\users\\ekasu\\anaconda3\\lib\\site-packages (from kneed) (1.24.3)\n",
      "Requirement already satisfied: scipy>=1.0.0 in c:\\users\\ekasu\\anaconda3\\lib\\site-packages (from kneed) (1.10.1)\n"
     ]
    }
   ],
   "source": [
    "!pip install kneed\n",
    "from kneed import KneeLocator\n",
    "import numpy as np\n",
    "import pandas as pd\n",
    "import seaborn as sns\n",
    "from sklearn.preprocessing import LabelEncoder, StandardScaler\n",
    "from matplotlib import pyplot as plt\n",
    "import scipy.cluster.hierarchy as sch\n",
    "from sklearn.cluster import AgglomerativeClustering, KMeans\n",
    "from scipy.cluster.hierarchy import fcluster, linkage, dendrogram\n",
    "from sklearn.metrics import davies_bouldin_score, silhouette_score\n",
    "from sklearn.impute import SimpleImputer\n",
    "import scipy.cluster.hierarchy as sch"
   ]
  },
  {
   "cell_type": "markdown",
   "metadata": {
    "id": "5kQApGMa30nv"
   },
   "source": [
    "Load dataset"
   ]
  },
  {
   "cell_type": "code",
   "execution_count": 9,
   "metadata": {
    "colab": {
     "base_uri": "https://localhost:8080/",
     "height": 292
    },
    "id": "RSXKxZMJ32tQ",
    "outputId": "7b4e5a37-0b47-4325-84b6-8a21f4f44336"
   },
   "outputs": [
    {
     "data": {
      "text/html": [
       "<div>\n",
       "<style scoped>\n",
       "    .dataframe tbody tr th:only-of-type {\n",
       "        vertical-align: middle;\n",
       "    }\n",
       "\n",
       "    .dataframe tbody tr th {\n",
       "        vertical-align: top;\n",
       "    }\n",
       "\n",
       "    .dataframe thead th {\n",
       "        text-align: right;\n",
       "    }\n",
       "</style>\n",
       "<table border=\"1\" class=\"dataframe\">\n",
       "  <thead>\n",
       "    <tr style=\"text-align: right;\">\n",
       "      <th></th>\n",
       "      <th>Country</th>\n",
       "      <th>Other names</th>\n",
       "      <th>ISO 3166-1 alpha-3 CODE</th>\n",
       "      <th>Population</th>\n",
       "      <th>Continent</th>\n",
       "      <th>Total Cases</th>\n",
       "      <th>Total Deaths</th>\n",
       "      <th>Tot Cases//1M pop</th>\n",
       "      <th>Tot Deaths/1M pop</th>\n",
       "      <th>Death percentage</th>\n",
       "    </tr>\n",
       "  </thead>\n",
       "  <tbody>\n",
       "    <tr>\n",
       "      <th>0</th>\n",
       "      <td>Afghanistan</td>\n",
       "      <td>Afghanistan</td>\n",
       "      <td>AFG</td>\n",
       "      <td>40462186</td>\n",
       "      <td>Asia</td>\n",
       "      <td>177827</td>\n",
       "      <td>7671</td>\n",
       "      <td>4395</td>\n",
       "      <td>190</td>\n",
       "      <td>4.313743</td>\n",
       "    </tr>\n",
       "    <tr>\n",
       "      <th>1</th>\n",
       "      <td>Albania</td>\n",
       "      <td>Albania</td>\n",
       "      <td>ALB</td>\n",
       "      <td>2872296</td>\n",
       "      <td>Europe</td>\n",
       "      <td>273870</td>\n",
       "      <td>3492</td>\n",
       "      <td>95349</td>\n",
       "      <td>1216</td>\n",
       "      <td>1.275058</td>\n",
       "    </tr>\n",
       "    <tr>\n",
       "      <th>2</th>\n",
       "      <td>Algeria</td>\n",
       "      <td>Algeria</td>\n",
       "      <td>DZA</td>\n",
       "      <td>45236699</td>\n",
       "      <td>Africa</td>\n",
       "      <td>265691</td>\n",
       "      <td>6874</td>\n",
       "      <td>5873</td>\n",
       "      <td>152</td>\n",
       "      <td>2.587216</td>\n",
       "    </tr>\n",
       "    <tr>\n",
       "      <th>3</th>\n",
       "      <td>Andorra</td>\n",
       "      <td>Andorra</td>\n",
       "      <td>AND</td>\n",
       "      <td>77481</td>\n",
       "      <td>Europe</td>\n",
       "      <td>40024</td>\n",
       "      <td>153</td>\n",
       "      <td>516565</td>\n",
       "      <td>1975</td>\n",
       "      <td>0.382271</td>\n",
       "    </tr>\n",
       "    <tr>\n",
       "      <th>4</th>\n",
       "      <td>Angola</td>\n",
       "      <td>Angola</td>\n",
       "      <td>AGO</td>\n",
       "      <td>34654212</td>\n",
       "      <td>Africa</td>\n",
       "      <td>99194</td>\n",
       "      <td>1900</td>\n",
       "      <td>2862</td>\n",
       "      <td>55</td>\n",
       "      <td>1.915438</td>\n",
       "    </tr>\n",
       "  </tbody>\n",
       "</table>\n",
       "</div>"
      ],
      "text/plain": [
       "       Country  Other names ISO 3166-1 alpha-3 CODE  Population Continent  \\\n",
       "0  Afghanistan  Afghanistan                     AFG    40462186      Asia   \n",
       "1      Albania      Albania                     ALB     2872296    Europe   \n",
       "2      Algeria      Algeria                     DZA    45236699    Africa   \n",
       "3      Andorra      Andorra                     AND       77481    Europe   \n",
       "4       Angola       Angola                     AGO    34654212    Africa   \n",
       "\n",
       "   Total Cases  Total Deaths  Tot Cases//1M pop  Tot Deaths/1M pop  \\\n",
       "0       177827          7671               4395                190   \n",
       "1       273870          3492              95349               1216   \n",
       "2       265691          6874               5873                152   \n",
       "3        40024           153             516565               1975   \n",
       "4        99194          1900               2862                 55   \n",
       "\n",
       "   Death percentage  \n",
       "0          4.313743  \n",
       "1          1.275058  \n",
       "2          2.587216  \n",
       "3          0.382271  \n",
       "4          1.915438  "
      ]
     },
     "execution_count": 9,
     "metadata": {},
     "output_type": "execute_result"
    }
   ],
   "source": [
    "df = pd.read_csv('https://raw.githubusercontent.com/ihavenonamesad/Covid-19_Dataset/refs/heads/main/COVID-19%20Coronavirus.csv')\n",
    "\n",
    "df.head(5)"
   ]
  },
  {
   "cell_type": "code",
   "execution_count": 37,
   "metadata": {},
   "outputs": [
    {
     "data": {
      "text/html": [
       "<div>\n",
       "<style scoped>\n",
       "    .dataframe tbody tr th:only-of-type {\n",
       "        vertical-align: middle;\n",
       "    }\n",
       "\n",
       "    .dataframe tbody tr th {\n",
       "        vertical-align: top;\n",
       "    }\n",
       "\n",
       "    .dataframe thead th {\n",
       "        text-align: right;\n",
       "    }\n",
       "</style>\n",
       "<table border=\"1\" class=\"dataframe\">\n",
       "  <thead>\n",
       "    <tr style=\"text-align: right;\">\n",
       "      <th></th>\n",
       "      <th>Population</th>\n",
       "      <th>Total Cases</th>\n",
       "      <th>Total Deaths</th>\n",
       "      <th>Tot Cases//1M pop</th>\n",
       "      <th>Tot Deaths/1M pop</th>\n",
       "      <th>Death percentage</th>\n",
       "    </tr>\n",
       "  </thead>\n",
       "  <tbody>\n",
       "    <tr>\n",
       "      <th>count</th>\n",
       "      <td>2.250000e+02</td>\n",
       "      <td>2.250000e+02</td>\n",
       "      <td>2.250000e+02</td>\n",
       "      <td>225.000000</td>\n",
       "      <td>225.000000</td>\n",
       "      <td>225.000000</td>\n",
       "    </tr>\n",
       "    <tr>\n",
       "      <th>mean</th>\n",
       "      <td>3.507321e+07</td>\n",
       "      <td>2.184781e+06</td>\n",
       "      <td>2.744813e+04</td>\n",
       "      <td>136900.373333</td>\n",
       "      <td>1096.715556</td>\n",
       "      <td>1.444125</td>\n",
       "    </tr>\n",
       "    <tr>\n",
       "      <th>std</th>\n",
       "      <td>1.392418e+08</td>\n",
       "      <td>7.275938e+06</td>\n",
       "      <td>9.689177e+04</td>\n",
       "      <td>145060.340289</td>\n",
       "      <td>1195.715543</td>\n",
       "      <td>1.741728</td>\n",
       "    </tr>\n",
       "    <tr>\n",
       "      <th>min</th>\n",
       "      <td>8.050000e+02</td>\n",
       "      <td>1.000000e+00</td>\n",
       "      <td>0.000000e+00</td>\n",
       "      <td>9.000000</td>\n",
       "      <td>0.000000</td>\n",
       "      <td>0.000000</td>\n",
       "    </tr>\n",
       "    <tr>\n",
       "      <th>25%</th>\n",
       "      <td>5.665570e+05</td>\n",
       "      <td>2.407100e+04</td>\n",
       "      <td>1.890000e+02</td>\n",
       "      <td>11384.000000</td>\n",
       "      <td>123.000000</td>\n",
       "      <td>0.511291</td>\n",
       "    </tr>\n",
       "    <tr>\n",
       "      <th>50%</th>\n",
       "      <td>5.827911e+06</td>\n",
       "      <td>1.639360e+05</td>\n",
       "      <td>1.965000e+03</td>\n",
       "      <td>88987.000000</td>\n",
       "      <td>708.000000</td>\n",
       "      <td>1.036905</td>\n",
       "    </tr>\n",
       "    <tr>\n",
       "      <th>75%</th>\n",
       "      <td>2.190585e+07</td>\n",
       "      <td>1.092547e+06</td>\n",
       "      <td>1.366000e+04</td>\n",
       "      <td>223335.000000</td>\n",
       "      <td>1795.000000</td>\n",
       "      <td>1.977017</td>\n",
       "    </tr>\n",
       "    <tr>\n",
       "      <th>max</th>\n",
       "      <td>1.439324e+09</td>\n",
       "      <td>8.183905e+07</td>\n",
       "      <td>1.008222e+06</td>\n",
       "      <td>696044.000000</td>\n",
       "      <td>6286.000000</td>\n",
       "      <td>18.151787</td>\n",
       "    </tr>\n",
       "  </tbody>\n",
       "</table>\n",
       "</div>"
      ],
      "text/plain": [
       "         Population   Total Cases  Total Deaths  Tot Cases//1M pop  \\\n",
       "count  2.250000e+02  2.250000e+02  2.250000e+02         225.000000   \n",
       "mean   3.507321e+07  2.184781e+06  2.744813e+04      136900.373333   \n",
       "std    1.392418e+08  7.275938e+06  9.689177e+04      145060.340289   \n",
       "min    8.050000e+02  1.000000e+00  0.000000e+00           9.000000   \n",
       "25%    5.665570e+05  2.407100e+04  1.890000e+02       11384.000000   \n",
       "50%    5.827911e+06  1.639360e+05  1.965000e+03       88987.000000   \n",
       "75%    2.190585e+07  1.092547e+06  1.366000e+04      223335.000000   \n",
       "max    1.439324e+09  8.183905e+07  1.008222e+06      696044.000000   \n",
       "\n",
       "       Tot Deaths/1M pop  Death percentage  \n",
       "count         225.000000        225.000000  \n",
       "mean         1096.715556          1.444125  \n",
       "std          1195.715543          1.741728  \n",
       "min             0.000000          0.000000  \n",
       "25%           123.000000          0.511291  \n",
       "50%           708.000000          1.036905  \n",
       "75%          1795.000000          1.977017  \n",
       "max          6286.000000         18.151787  "
      ]
     },
     "execution_count": 37,
     "metadata": {},
     "output_type": "execute_result"
    }
   ],
   "source": [
    "df.describe()"
   ]
  },
  {
   "cell_type": "markdown",
   "metadata": {
    "id": "Q4p9ra1JRDdn"
   },
   "source": [
    "1."
   ]
  },
  {
   "cell_type": "code",
   "execution_count": 12,
   "metadata": {
    "colab": {
     "base_uri": "https://localhost:8080/",
     "height": 460
    },
    "id": "fAfk6XsgLeVl",
    "outputId": "5d0ef7eb-385a-41d7-e953-4f9a346d04c9"
   },
   "outputs": [
    {
     "data": {
      "text/plain": [
       "Country                    0\n",
       "Other names                1\n",
       "ISO 3166-1 alpha-3 CODE    0\n",
       "Population                 0\n",
       "Continent                  0\n",
       "Total Cases                0\n",
       "Total Deaths               0\n",
       "Tot Cases//1M pop          0\n",
       "Tot Deaths/1M pop          0\n",
       "Death percentage           0\n",
       "dtype: int64"
      ]
     },
     "execution_count": 12,
     "metadata": {},
     "output_type": "execute_result"
    }
   ],
   "source": [
    "df.isna().sum()"
   ]
  },
  {
   "cell_type": "markdown",
   "metadata": {
    "id": "TML3jiamRF_U"
   },
   "source": [
    "2."
   ]
  },
  {
   "cell_type": "code",
   "execution_count": 13,
   "metadata": {
    "colab": {
     "base_uri": "https://localhost:8080/",
     "height": 460
    },
    "id": "pRvFgzknOwNZ",
    "outputId": "bcf3e2ee-f425-4f97-9703-ce4d76f68667"
   },
   "outputs": [
    {
     "data": {
      "text/plain": [
       "Country                    0.000000\n",
       "Other names                0.444444\n",
       "ISO 3166-1 alpha-3 CODE    0.000000\n",
       "Population                 0.000000\n",
       "Continent                  0.000000\n",
       "Total Cases                0.000000\n",
       "Total Deaths               0.000000\n",
       "Tot Cases//1M pop          0.000000\n",
       "Tot Deaths/1M pop          0.000000\n",
       "Death percentage           0.000000\n",
       "dtype: float64"
      ]
     },
     "execution_count": 13,
     "metadata": {},
     "output_type": "execute_result"
    }
   ],
   "source": [
    "(df.isna().sum()/len(df))*100"
   ]
  },
  {
   "cell_type": "markdown",
   "metadata": {
    "id": "-KzjgP9fAzBk"
   },
   "source": [
    "Since there are too many nulls but not up to 50%, it’s better to fill them in using SimpleImputer with the strategy set to 'most_frequent'"
   ]
  },
  {
   "cell_type": "code",
   "execution_count": 14,
   "metadata": {
    "colab": {
     "base_uri": "https://localhost:8080/",
     "height": 292
    },
    "id": "pG9CYi3C7Iq9",
    "outputId": "7d071b8a-0c8f-4c4c-ac54-214f447c8a6c"
   },
   "outputs": [
    {
     "data": {
      "text/html": [
       "<div>\n",
       "<style scoped>\n",
       "    .dataframe tbody tr th:only-of-type {\n",
       "        vertical-align: middle;\n",
       "    }\n",
       "\n",
       "    .dataframe tbody tr th {\n",
       "        vertical-align: top;\n",
       "    }\n",
       "\n",
       "    .dataframe thead th {\n",
       "        text-align: right;\n",
       "    }\n",
       "</style>\n",
       "<table border=\"1\" class=\"dataframe\">\n",
       "  <thead>\n",
       "    <tr style=\"text-align: right;\">\n",
       "      <th></th>\n",
       "      <th>Country</th>\n",
       "      <th>Other names</th>\n",
       "      <th>ISO 3166-1 alpha-3 CODE</th>\n",
       "      <th>Population</th>\n",
       "      <th>Continent</th>\n",
       "      <th>Total Cases</th>\n",
       "      <th>Total Deaths</th>\n",
       "      <th>Tot Cases//1M pop</th>\n",
       "      <th>Tot Deaths/1M pop</th>\n",
       "      <th>Death percentage</th>\n",
       "    </tr>\n",
       "  </thead>\n",
       "  <tbody>\n",
       "    <tr>\n",
       "      <th>0</th>\n",
       "      <td>Afghanistan</td>\n",
       "      <td>Afghanistan</td>\n",
       "      <td>AFG</td>\n",
       "      <td>40462186</td>\n",
       "      <td>Asia</td>\n",
       "      <td>177827</td>\n",
       "      <td>7671</td>\n",
       "      <td>4395</td>\n",
       "      <td>190</td>\n",
       "      <td>4.313743</td>\n",
       "    </tr>\n",
       "    <tr>\n",
       "      <th>1</th>\n",
       "      <td>Albania</td>\n",
       "      <td>Albania</td>\n",
       "      <td>ALB</td>\n",
       "      <td>2872296</td>\n",
       "      <td>Europe</td>\n",
       "      <td>273870</td>\n",
       "      <td>3492</td>\n",
       "      <td>95349</td>\n",
       "      <td>1216</td>\n",
       "      <td>1.275058</td>\n",
       "    </tr>\n",
       "    <tr>\n",
       "      <th>2</th>\n",
       "      <td>Algeria</td>\n",
       "      <td>Algeria</td>\n",
       "      <td>DZA</td>\n",
       "      <td>45236699</td>\n",
       "      <td>Africa</td>\n",
       "      <td>265691</td>\n",
       "      <td>6874</td>\n",
       "      <td>5873</td>\n",
       "      <td>152</td>\n",
       "      <td>2.587216</td>\n",
       "    </tr>\n",
       "    <tr>\n",
       "      <th>3</th>\n",
       "      <td>Andorra</td>\n",
       "      <td>Andorra</td>\n",
       "      <td>AND</td>\n",
       "      <td>77481</td>\n",
       "      <td>Europe</td>\n",
       "      <td>40024</td>\n",
       "      <td>153</td>\n",
       "      <td>516565</td>\n",
       "      <td>1975</td>\n",
       "      <td>0.382271</td>\n",
       "    </tr>\n",
       "    <tr>\n",
       "      <th>4</th>\n",
       "      <td>Angola</td>\n",
       "      <td>Angola</td>\n",
       "      <td>AGO</td>\n",
       "      <td>34654212</td>\n",
       "      <td>Africa</td>\n",
       "      <td>99194</td>\n",
       "      <td>1900</td>\n",
       "      <td>2862</td>\n",
       "      <td>55</td>\n",
       "      <td>1.915438</td>\n",
       "    </tr>\n",
       "  </tbody>\n",
       "</table>\n",
       "</div>"
      ],
      "text/plain": [
       "       Country  Other names ISO 3166-1 alpha-3 CODE Population Continent  \\\n",
       "0  Afghanistan  Afghanistan                     AFG   40462186      Asia   \n",
       "1      Albania      Albania                     ALB    2872296    Europe   \n",
       "2      Algeria      Algeria                     DZA   45236699    Africa   \n",
       "3      Andorra      Andorra                     AND      77481    Europe   \n",
       "4       Angola       Angola                     AGO   34654212    Africa   \n",
       "\n",
       "  Total Cases Total Deaths Tot Cases//1M pop Tot Deaths/1M pop  \\\n",
       "0      177827         7671              4395               190   \n",
       "1      273870         3492             95349              1216   \n",
       "2      265691         6874              5873               152   \n",
       "3       40024          153            516565              1975   \n",
       "4       99194         1900              2862                55   \n",
       "\n",
       "  Death percentage  \n",
       "0         4.313743  \n",
       "1         1.275058  \n",
       "2         2.587216  \n",
       "3         0.382271  \n",
       "4         1.915438  "
      ]
     },
     "execution_count": 14,
     "metadata": {},
     "output_type": "execute_result"
    }
   ],
   "source": [
    "imputer = SimpleImputer(strategy='most_frequent')\n",
    "df_imputed = pd.DataFrame(imputer.fit_transform(df), columns=df.columns)\n",
    "df_imputed.head(5)"
   ]
  },
  {
   "cell_type": "code",
   "execution_count": 15,
   "metadata": {
    "colab": {
     "base_uri": "https://localhost:8080/",
     "height": 460
    },
    "id": "P39tcuz77l4m",
    "outputId": "c16e0e34-6bdf-405c-e4f4-eb5f8d6d70ad"
   },
   "outputs": [
    {
     "data": {
      "text/plain": [
       "Country                    0\n",
       "Other names                0\n",
       "ISO 3166-1 alpha-3 CODE    0\n",
       "Population                 0\n",
       "Continent                  0\n",
       "Total Cases                0\n",
       "Total Deaths               0\n",
       "Tot Cases//1M pop          0\n",
       "Tot Deaths/1M pop          0\n",
       "Death percentage           0\n",
       "dtype: int64"
      ]
     },
     "execution_count": 15,
     "metadata": {},
     "output_type": "execute_result"
    }
   ],
   "source": [
    "df_imputed.isna().sum()"
   ]
  },
  {
   "cell_type": "markdown",
   "metadata": {
    "id": "bX3c5v9bCx67"
   },
   "source": [
    "Drop the column 'Nama Daerah' because all the values are different."
   ]
  },
  {
   "cell_type": "code",
   "execution_count": 16,
   "metadata": {
    "colab": {
     "base_uri": "https://localhost:8080/",
     "height": 275
    },
    "id": "XBrU-DGYCkND",
    "outputId": "c45fc228-4a77-4a1a-a3e0-478b8c6faa2b",
    "scrolled": true
   },
   "outputs": [
    {
     "data": {
      "text/html": [
       "<div>\n",
       "<style scoped>\n",
       "    .dataframe tbody tr th:only-of-type {\n",
       "        vertical-align: middle;\n",
       "    }\n",
       "\n",
       "    .dataframe tbody tr th {\n",
       "        vertical-align: top;\n",
       "    }\n",
       "\n",
       "    .dataframe thead th {\n",
       "        text-align: right;\n",
       "    }\n",
       "</style>\n",
       "<table border=\"1\" class=\"dataframe\">\n",
       "  <thead>\n",
       "    <tr style=\"text-align: right;\">\n",
       "      <th></th>\n",
       "      <th>Country</th>\n",
       "      <th>Population</th>\n",
       "      <th>Continent</th>\n",
       "      <th>Total Cases</th>\n",
       "      <th>Total Deaths</th>\n",
       "      <th>Tot Cases//1M pop</th>\n",
       "      <th>Tot Deaths/1M pop</th>\n",
       "      <th>Death percentage</th>\n",
       "    </tr>\n",
       "  </thead>\n",
       "  <tbody>\n",
       "    <tr>\n",
       "      <th>0</th>\n",
       "      <td>Afghanistan</td>\n",
       "      <td>40462186</td>\n",
       "      <td>Asia</td>\n",
       "      <td>177827</td>\n",
       "      <td>7671</td>\n",
       "      <td>4395</td>\n",
       "      <td>190</td>\n",
       "      <td>4.313743</td>\n",
       "    </tr>\n",
       "    <tr>\n",
       "      <th>1</th>\n",
       "      <td>Albania</td>\n",
       "      <td>2872296</td>\n",
       "      <td>Europe</td>\n",
       "      <td>273870</td>\n",
       "      <td>3492</td>\n",
       "      <td>95349</td>\n",
       "      <td>1216</td>\n",
       "      <td>1.275058</td>\n",
       "    </tr>\n",
       "    <tr>\n",
       "      <th>2</th>\n",
       "      <td>Algeria</td>\n",
       "      <td>45236699</td>\n",
       "      <td>Africa</td>\n",
       "      <td>265691</td>\n",
       "      <td>6874</td>\n",
       "      <td>5873</td>\n",
       "      <td>152</td>\n",
       "      <td>2.587216</td>\n",
       "    </tr>\n",
       "    <tr>\n",
       "      <th>3</th>\n",
       "      <td>Andorra</td>\n",
       "      <td>77481</td>\n",
       "      <td>Europe</td>\n",
       "      <td>40024</td>\n",
       "      <td>153</td>\n",
       "      <td>516565</td>\n",
       "      <td>1975</td>\n",
       "      <td>0.382271</td>\n",
       "    </tr>\n",
       "    <tr>\n",
       "      <th>4</th>\n",
       "      <td>Angola</td>\n",
       "      <td>34654212</td>\n",
       "      <td>Africa</td>\n",
       "      <td>99194</td>\n",
       "      <td>1900</td>\n",
       "      <td>2862</td>\n",
       "      <td>55</td>\n",
       "      <td>1.915438</td>\n",
       "    </tr>\n",
       "  </tbody>\n",
       "</table>\n",
       "</div>"
      ],
      "text/plain": [
       "       Country Population Continent Total Cases Total Deaths  \\\n",
       "0  Afghanistan   40462186      Asia      177827         7671   \n",
       "1      Albania    2872296    Europe      273870         3492   \n",
       "2      Algeria   45236699    Africa      265691         6874   \n",
       "3      Andorra      77481    Europe       40024          153   \n",
       "4       Angola   34654212    Africa       99194         1900   \n",
       "\n",
       "  Tot Cases//1M pop Tot Deaths/1M pop Death percentage  \n",
       "0              4395               190         4.313743  \n",
       "1             95349              1216         1.275058  \n",
       "2              5873               152         2.587216  \n",
       "3            516565              1975         0.382271  \n",
       "4              2862                55         1.915438  "
      ]
     },
     "execution_count": 16,
     "metadata": {},
     "output_type": "execute_result"
    }
   ],
   "source": [
    "df_dropped = df_imputed.drop('ISO 3166-1 alpha-3 CODE', axis=1) \n",
    "df_dropped = df_dropped.drop('Other names', axis=1) \n",
    "df_dropped.head(5)"
   ]
  },
  {
   "cell_type": "markdown",
   "metadata": {
    "id": "2oKqWt9qRLrF"
   },
   "source": [
    "3."
   ]
  },
  {
   "cell_type": "code",
   "execution_count": 18,
   "metadata": {
    "colab": {
     "base_uri": "https://localhost:8080/",
     "height": 223
    },
    "id": "Nmk3tKEP7qXn",
    "outputId": "e0aad92d-b22b-4001-8437-36610b99d919"
   },
   "outputs": [
    {
     "data": {
      "text/html": [
       "<div>\n",
       "<style scoped>\n",
       "    .dataframe tbody tr th:only-of-type {\n",
       "        vertical-align: middle;\n",
       "    }\n",
       "\n",
       "    .dataframe tbody tr th {\n",
       "        vertical-align: top;\n",
       "    }\n",
       "\n",
       "    .dataframe thead th {\n",
       "        text-align: right;\n",
       "    }\n",
       "</style>\n",
       "<table border=\"1\" class=\"dataframe\">\n",
       "  <thead>\n",
       "    <tr style=\"text-align: right;\">\n",
       "      <th></th>\n",
       "      <th>Country</th>\n",
       "      <th>Population</th>\n",
       "      <th>Continent</th>\n",
       "      <th>Total Cases</th>\n",
       "      <th>Total Deaths</th>\n",
       "      <th>Tot Cases//1M pop</th>\n",
       "      <th>Tot Deaths/1M pop</th>\n",
       "      <th>Death percentage</th>\n",
       "    </tr>\n",
       "  </thead>\n",
       "  <tbody>\n",
       "    <tr>\n",
       "      <th>0</th>\n",
       "      <td>0</td>\n",
       "      <td>40462186</td>\n",
       "      <td>1</td>\n",
       "      <td>177827</td>\n",
       "      <td>7671</td>\n",
       "      <td>4395</td>\n",
       "      <td>190</td>\n",
       "      <td>4.313743</td>\n",
       "    </tr>\n",
       "    <tr>\n",
       "      <th>1</th>\n",
       "      <td>1</td>\n",
       "      <td>2872296</td>\n",
       "      <td>2</td>\n",
       "      <td>273870</td>\n",
       "      <td>3492</td>\n",
       "      <td>95349</td>\n",
       "      <td>1216</td>\n",
       "      <td>1.275058</td>\n",
       "    </tr>\n",
       "    <tr>\n",
       "      <th>2</th>\n",
       "      <td>2</td>\n",
       "      <td>45236699</td>\n",
       "      <td>0</td>\n",
       "      <td>265691</td>\n",
       "      <td>6874</td>\n",
       "      <td>5873</td>\n",
       "      <td>152</td>\n",
       "      <td>2.587216</td>\n",
       "    </tr>\n",
       "    <tr>\n",
       "      <th>3</th>\n",
       "      <td>3</td>\n",
       "      <td>77481</td>\n",
       "      <td>2</td>\n",
       "      <td>40024</td>\n",
       "      <td>153</td>\n",
       "      <td>516565</td>\n",
       "      <td>1975</td>\n",
       "      <td>0.382271</td>\n",
       "    </tr>\n",
       "    <tr>\n",
       "      <th>4</th>\n",
       "      <td>4</td>\n",
       "      <td>34654212</td>\n",
       "      <td>0</td>\n",
       "      <td>99194</td>\n",
       "      <td>1900</td>\n",
       "      <td>2862</td>\n",
       "      <td>55</td>\n",
       "      <td>1.915438</td>\n",
       "    </tr>\n",
       "  </tbody>\n",
       "</table>\n",
       "</div>"
      ],
      "text/plain": [
       "   Country Population  Continent Total Cases Total Deaths Tot Cases//1M pop  \\\n",
       "0        0   40462186          1      177827         7671              4395   \n",
       "1        1    2872296          2      273870         3492             95349   \n",
       "2        2   45236699          0      265691         6874              5873   \n",
       "3        3      77481          2       40024          153            516565   \n",
       "4        4   34654212          0       99194         1900              2862   \n",
       "\n",
       "  Tot Deaths/1M pop Death percentage  \n",
       "0               190         4.313743  \n",
       "1              1216         1.275058  \n",
       "2               152         2.587216  \n",
       "3              1975         0.382271  \n",
       "4                55         1.915438  "
      ]
     },
     "execution_count": 18,
     "metadata": {},
     "output_type": "execute_result"
    }
   ],
   "source": [
    "label_encoders = {}\n",
    "categorical_cols = ['Country','Continent']\n",
    "for col in categorical_cols:\n",
    "    le = LabelEncoder()\n",
    "    df_dropped[col] = le.fit_transform(df_dropped[col])\n",
    "    label_encoders[col] = le\n",
    "\n",
    "df_dropped.head()"
   ]
  },
  {
   "cell_type": "markdown",
   "metadata": {
    "id": "ZYcSwNYQrfF3"
   },
   "source": [
    "check the data type"
   ]
  },
  {
   "cell_type": "code",
   "execution_count": 20,
   "metadata": {
    "colab": {
     "base_uri": "https://localhost:8080/"
    },
    "id": "tenlxUxBLdWR",
    "outputId": "1e26969e-b151-454c-b8b3-e9639d8a8cd4"
   },
   "outputs": [
    {
     "name": "stdout",
     "output_type": "stream",
     "text": [
      "<class 'pandas.core.frame.DataFrame'>\n",
      "RangeIndex: 225 entries, 0 to 224\n",
      "Data columns (total 8 columns):\n",
      " #   Column             Non-Null Count  Dtype \n",
      "---  ------             --------------  ----- \n",
      " 0   Country            225 non-null    int32 \n",
      " 1   Population         225 non-null    object\n",
      " 2   Continent          225 non-null    int32 \n",
      " 3   Total Cases        225 non-null    object\n",
      " 4   Total Deaths       225 non-null    object\n",
      " 5   Tot Cases//1M pop  225 non-null    object\n",
      " 6   Tot Deaths/1M pop  225 non-null    object\n",
      " 7   Death percentage   225 non-null    object\n",
      "dtypes: int32(2), object(6)\n",
      "memory usage: 12.4+ KB\n"
     ]
    }
   ],
   "source": [
    "df_dropped.info()"
   ]
  },
  {
   "cell_type": "code",
   "execution_count": 21,
   "metadata": {
    "id": "tePlKVUaLE8k"
   },
   "outputs": [
    {
     "name": "stderr",
     "output_type": "stream",
     "text": [
      "C:\\Users\\ekasu\\AppData\\Local\\Temp\\ipykernel_8228\\127773873.py:7: DeprecationWarning: In a future version, `df.iloc[:, i] = newvals` will attempt to set the values inplace instead of always setting a new array. To retain the old behavior, use either `df[df.columns[i]] = newvals` or, if columns are non-unique, `df.isetitem(i, newvals)`\n",
      "  df_encoded.iloc[:, 5] = df_encoded.iloc[:, 5].astype(float)\n",
      "C:\\Users\\ekasu\\AppData\\Local\\Temp\\ipykernel_8228\\127773873.py:8: DeprecationWarning: In a future version, `df.iloc[:, i] = newvals` will attempt to set the values inplace instead of always setting a new array. To retain the old behavior, use either `df[df.columns[i]] = newvals` or, if columns are non-unique, `df.isetitem(i, newvals)`\n",
      "  df_encoded.iloc[:, 6] = df_encoded.iloc[:, 6].astype(float)\n"
     ]
    }
   ],
   "source": [
    "df_encoded = df_dropped\n",
    "df_encoded[\"Population\"] = df_encoded[\"Population\"].astype(int)\n",
    "df_encoded[\"Total Cases\"] = df_encoded[\"Total Cases\"].astype(int)\n",
    "df_encoded[\"Total Deaths\"] = df_encoded[\"Total Deaths\"].astype(int)\n",
    "df_encoded[\"Death percentage\"] = df_encoded[\"Death percentage\"].astype(int)\n",
    "\n",
    "df_encoded.iloc[:, 5] = df_encoded.iloc[:, 5].astype(float)\n",
    "df_encoded.iloc[:, 6] = df_encoded.iloc[:, 6].astype(float)"
   ]
  },
  {
   "cell_type": "code",
   "execution_count": 22,
   "metadata": {
    "colab": {
     "base_uri": "https://localhost:8080/"
    },
    "id": "PdRtvMT3bEnJ",
    "outputId": "950f33e8-ae31-4491-9b9b-294daf3b33dc"
   },
   "outputs": [
    {
     "name": "stdout",
     "output_type": "stream",
     "text": [
      "<class 'pandas.core.frame.DataFrame'>\n",
      "RangeIndex: 225 entries, 0 to 224\n",
      "Data columns (total 8 columns):\n",
      " #   Column             Non-Null Count  Dtype  \n",
      "---  ------             --------------  -----  \n",
      " 0   Country            225 non-null    int32  \n",
      " 1   Population         225 non-null    int32  \n",
      " 2   Continent          225 non-null    int32  \n",
      " 3   Total Cases        225 non-null    int32  \n",
      " 4   Total Deaths       225 non-null    int32  \n",
      " 5   Tot Cases//1M pop  225 non-null    float64\n",
      " 6   Tot Deaths/1M pop  225 non-null    float64\n",
      " 7   Death percentage   225 non-null    int32  \n",
      "dtypes: float64(2), int32(6)\n",
      "memory usage: 8.9 KB\n"
     ]
    }
   ],
   "source": [
    "df_encoded.info()"
   ]
  },
  {
   "cell_type": "markdown",
   "metadata": {
    "id": "_qQtlqnzRARK"
   },
   "source": [
    "4."
   ]
  },
  {
   "cell_type": "code",
   "execution_count": 35,
   "metadata": {
    "colab": {
     "base_uri": "https://localhost:8080/",
     "height": 223
    },
    "id": "_EOGmQfi8XKS",
    "outputId": "3ccec2ee-d9ea-4837-b0a0-2feb409c8c88"
   },
   "outputs": [
    {
     "data": {
      "text/html": [
       "<div>\n",
       "<style scoped>\n",
       "    .dataframe tbody tr th:only-of-type {\n",
       "        vertical-align: middle;\n",
       "    }\n",
       "\n",
       "    .dataframe tbody tr th {\n",
       "        vertical-align: top;\n",
       "    }\n",
       "\n",
       "    .dataframe thead th {\n",
       "        text-align: right;\n",
       "    }\n",
       "</style>\n",
       "<table border=\"1\" class=\"dataframe\">\n",
       "  <thead>\n",
       "    <tr style=\"text-align: right;\">\n",
       "      <th></th>\n",
       "      <th>Country</th>\n",
       "      <th>Population</th>\n",
       "      <th>Continent</th>\n",
       "      <th>Total Cases</th>\n",
       "      <th>Total Deaths</th>\n",
       "      <th>Tot Cases per 1M pop</th>\n",
       "      <th>Tot Deaths per 1M pop</th>\n",
       "      <th>Death percentage</th>\n",
       "    </tr>\n",
       "  </thead>\n",
       "  <tbody>\n",
       "    <tr>\n",
       "      <th>0</th>\n",
       "      <td>-1.724370</td>\n",
       "      <td>0.038789</td>\n",
       "      <td>-0.509986</td>\n",
       "      <td>-0.276449</td>\n",
       "      <td>-0.204571</td>\n",
       "      <td>-0.915487</td>\n",
       "      <td>-0.759994</td>\n",
       "      <td>1.718056</td>\n",
       "    </tr>\n",
       "    <tr>\n",
       "      <th>1</th>\n",
       "      <td>-1.708974</td>\n",
       "      <td>-0.231774</td>\n",
       "      <td>0.168989</td>\n",
       "      <td>-0.263220</td>\n",
       "      <td>-0.247798</td>\n",
       "      <td>-0.287081</td>\n",
       "      <td>0.099982</td>\n",
       "      <td>-0.005106</td>\n",
       "    </tr>\n",
       "    <tr>\n",
       "      <th>2</th>\n",
       "      <td>-1.693578</td>\n",
       "      <td>0.073154</td>\n",
       "      <td>-1.188960</td>\n",
       "      <td>-0.264347</td>\n",
       "      <td>-0.212815</td>\n",
       "      <td>-0.905275</td>\n",
       "      <td>-0.791845</td>\n",
       "      <td>0.569282</td>\n",
       "    </tr>\n",
       "    <tr>\n",
       "      <th>3</th>\n",
       "      <td>-1.678181</td>\n",
       "      <td>-0.251891</td>\n",
       "      <td>0.168989</td>\n",
       "      <td>-0.295431</td>\n",
       "      <td>-0.282336</td>\n",
       "      <td>2.623123</td>\n",
       "      <td>0.736164</td>\n",
       "      <td>-0.579493</td>\n",
       "    </tr>\n",
       "    <tr>\n",
       "      <th>4</th>\n",
       "      <td>-1.662785</td>\n",
       "      <td>-0.003016</td>\n",
       "      <td>-1.188960</td>\n",
       "      <td>-0.287281</td>\n",
       "      <td>-0.264265</td>\n",
       "      <td>-0.926078</td>\n",
       "      <td>-0.873149</td>\n",
       "      <td>-0.005106</td>\n",
       "    </tr>\n",
       "  </tbody>\n",
       "</table>\n",
       "</div>"
      ],
      "text/plain": [
       "    Country  Population  Continent  Total Cases  Total Deaths  \\\n",
       "0 -1.724370    0.038789  -0.509986    -0.276449     -0.204571   \n",
       "1 -1.708974   -0.231774   0.168989    -0.263220     -0.247798   \n",
       "2 -1.693578    0.073154  -1.188960    -0.264347     -0.212815   \n",
       "3 -1.678181   -0.251891   0.168989    -0.295431     -0.282336   \n",
       "4 -1.662785   -0.003016  -1.188960    -0.287281     -0.264265   \n",
       "\n",
       "   Tot Cases per 1M pop  Tot Deaths per 1M pop  Death percentage  \n",
       "0             -0.915487              -0.759994          1.718056  \n",
       "1             -0.287081               0.099982         -0.005106  \n",
       "2             -0.905275              -0.791845          0.569282  \n",
       "3              2.623123               0.736164         -0.579493  \n",
       "4             -0.926078              -0.873149         -0.005106  "
      ]
     },
     "execution_count": 35,
     "metadata": {},
     "output_type": "execute_result"
    }
   ],
   "source": [
    "# scaling data\n",
    "sc = StandardScaler()\n",
    " \n",
    "scaled = pd.DataFrame(sc.fit_transform(df_encoded), columns=\n",
    "                      [\"Country\", \n",
    "                       \"Population\",  \n",
    "                       \"Continent\", \n",
    "                       \"Total Cases\", \n",
    "                       \"Total Deaths\", \n",
    "                       \"Tot Cases per 1M pop\", \n",
    "                       \"Tot Deaths per 1M pop\", \n",
    "                       \"Death percentage\"\n",
    "                      ])\n",
    "\n",
    "scaled.head()"
   ]
  },
  {
   "cell_type": "code",
   "execution_count": 39,
   "metadata": {},
   "outputs": [
    {
     "data": {
      "image/png": "[encoded data removed]",
      "text/plain": [
       "<Figure size 1000x600 with 1 Axes>"
      ]
     },
     "metadata": {},
     "output_type": "display_data"
    }
   ],
   "source": [
    "import matplotlib.pyplot as plt\n",
    "\n",
    "# Create the bar chart using the DataFrame\n",
    "plt.figure(figsize=(10, 6))\n",
    "plt.bar(df_imputed['Continent'], df_imputed['Death percentage'], color='skyblue', edgecolor='black')\n",
    "\n",
    "# Add labels and title\n",
    "plt.xlabel(\"Continent\", fontsize=12)\n",
    "plt.ylabel(\"Death Percentage (%)\", fontsize=12)\n",
    "plt.title(\"Death Percentage by Continent\", fontsize=14)\n",
    "plt.ylim(0, df_imputed['Death percentage'].max() + 1)  # Add space above the highest bar for clarity\n",
    "\n",
    "# Show the chart\n",
    "plt.tight_layout()\n",
    "plt.show()"
   ]
  },
  {
   "cell_type": "code",
   "execution_count": 40,
   "metadata": {},
   "outputs": [
    {
     "name": "stderr",
     "output_type": "stream",
     "text": [
      "C:\\Users\\ekasu\\AppData\\Local\\Temp\\ipykernel_8228\\820230638.py:1: FutureWarning: The default value of numeric_only in DataFrame.corr is deprecated. In a future version, it will default to False. Select only valid columns or specify the value of numeric_only to silence this warning.\n",
      "  corr_matrix = df.corr()\n"
     ]
    },
    {
     "data": {
      "image/png": "[encoded data removed]",
      "text/plain": [
       "<Figure size 1000x800 with 2 Axes>"
      ]
     },
     "metadata": {},
     "output_type": "display_data"
    }
   ],
   "source": [
    "corr_matrix = df.corr()\n",
    "plt.figure(figsize=(10, 8))\n",
    "sns.heatmap(corr_matrix, annot=True, cmap='coolwarm', linewidths=0.5)\n",
    "plt.title('Correlation Matrix Heatmap')\n",
    "plt.show()"
   ]
  },
  {
   "cell_type": "markdown",
   "metadata": {
    "id": "ZPx1qmFr3ouX"
   },
   "source": [
    "## K-Means Clustering"
   ]
  },
  {
   "cell_type": "markdown",
   "metadata": {
    "id": "BAHb1xo_A3m5"
   },
   "source": [
    "Using the elbow method, determine the number of clusters to be formed.\n",
    "\n",
    "Use the elbow range range(1, 11)"
   ]
  },
  {
   "cell_type": "code",
   "execution_count": 32,
   "metadata": {
    "colab": {
     "base_uri": "https://localhost:8080/",
     "height": 449
    },
    "id": "HFLEIVEI-J8n",
    "outputId": "af930208-dcf7-4cab-8f9a-0e4c08bc55d7"
   },
   "outputs": [
    {
     "name": "stderr",
     "output_type": "stream",
     "text": [
      "C:\\Users\\ekasu\\anaconda3\\Lib\\site-packages\\sklearn\\cluster\\_kmeans.py:1412: FutureWarning: The default value of `n_init` will change from 10 to 'auto' in 1.4. Set the value of `n_init` explicitly to suppress the warning\n",
      "  super()._check_params_vs_input(X, default_n_init=10)\n",
      "C:\\Users\\ekasu\\anaconda3\\Lib\\site-packages\\sklearn\\cluster\\_kmeans.py:1436: UserWarning: KMeans is known to have a memory leak on Windows with MKL, when there are less chunks than available threads. You can avoid it by setting the environment variable OMP_NUM_THREADS=1.\n",
      "  warnings.warn(\n",
      "C:\\Users\\ekasu\\anaconda3\\Lib\\site-packages\\sklearn\\cluster\\_kmeans.py:1412: FutureWarning: The default value of `n_init` will change from 10 to 'auto' in 1.4. Set the value of `n_init` explicitly to suppress the warning\n",
      "  super()._check_params_vs_input(X, default_n_init=10)\n",
      "C:\\Users\\ekasu\\anaconda3\\Lib\\site-packages\\sklearn\\cluster\\_kmeans.py:1436: UserWarning: KMeans is known to have a memory leak on Windows with MKL, when there are less chunks than available threads. You can avoid it by setting the environment variable OMP_NUM_THREADS=1.\n",
      "  warnings.warn(\n",
      "C:\\Users\\ekasu\\anaconda3\\Lib\\site-packages\\sklearn\\cluster\\_kmeans.py:1412: FutureWarning: The default value of `n_init` will change from 10 to 'auto' in 1.4. Set the value of `n_init` explicitly to suppress the warning\n",
      "  super()._check_params_vs_input(X, default_n_init=10)\n",
      "C:\\Users\\ekasu\\anaconda3\\Lib\\site-packages\\sklearn\\cluster\\_kmeans.py:1436: UserWarning: KMeans is known to have a memory leak on Windows with MKL, when there are less chunks than available threads. You can avoid it by setting the environment variable OMP_NUM_THREADS=1.\n",
      "  warnings.warn(\n",
      "C:\\Users\\ekasu\\anaconda3\\Lib\\site-packages\\sklearn\\cluster\\_kmeans.py:1412: FutureWarning: The default value of `n_init` will change from 10 to 'auto' in 1.4. Set the value of `n_init` explicitly to suppress the warning\n",
      "  super()._check_params_vs_input(X, default_n_init=10)\n",
      "C:\\Users\\ekasu\\anaconda3\\Lib\\site-packages\\sklearn\\cluster\\_kmeans.py:1436: UserWarning: KMeans is known to have a memory leak on Windows with MKL, when there are less chunks than available threads. You can avoid it by setting the environment variable OMP_NUM_THREADS=1.\n",
      "  warnings.warn(\n",
      "C:\\Users\\ekasu\\anaconda3\\Lib\\site-packages\\sklearn\\cluster\\_kmeans.py:1412: FutureWarning: The default value of `n_init` will change from 10 to 'auto' in 1.4. Set the value of `n_init` explicitly to suppress the warning\n",
      "  super()._check_params_vs_input(X, default_n_init=10)\n",
      "C:\\Users\\ekasu\\anaconda3\\Lib\\site-packages\\sklearn\\cluster\\_kmeans.py:1436: UserWarning: KMeans is known to have a memory leak on Windows with MKL, when there are less chunks than available threads. You can avoid it by setting the environment variable OMP_NUM_THREADS=1.\n",
      "  warnings.warn(\n",
      "C:\\Users\\ekasu\\anaconda3\\Lib\\site-packages\\sklearn\\cluster\\_kmeans.py:1412: FutureWarning: The default value of `n_init` will change from 10 to 'auto' in 1.4. Set the value of `n_init` explicitly to suppress the warning\n",
      "  super()._check_params_vs_input(X, default_n_init=10)\n",
      "C:\\Users\\ekasu\\anaconda3\\Lib\\site-packages\\sklearn\\cluster\\_kmeans.py:1436: UserWarning: KMeans is known to have a memory leak on Windows with MKL, when there are less chunks than available threads. You can avoid it by setting the environment variable OMP_NUM_THREADS=1.\n",
      "  warnings.warn(\n",
      "C:\\Users\\ekasu\\anaconda3\\Lib\\site-packages\\sklearn\\cluster\\_kmeans.py:1412: FutureWarning: The default value of `n_init` will change from 10 to 'auto' in 1.4. Set the value of `n_init` explicitly to suppress the warning\n",
      "  super()._check_params_vs_input(X, default_n_init=10)\n",
      "C:\\Users\\ekasu\\anaconda3\\Lib\\site-packages\\sklearn\\cluster\\_kmeans.py:1436: UserWarning: KMeans is known to have a memory leak on Windows with MKL, when there are less chunks than available threads. You can avoid it by setting the environment variable OMP_NUM_THREADS=1.\n",
      "  warnings.warn(\n",
      "C:\\Users\\ekasu\\anaconda3\\Lib\\site-packages\\sklearn\\cluster\\_kmeans.py:1412: FutureWarning: The default value of `n_init` will change from 10 to 'auto' in 1.4. Set the value of `n_init` explicitly to suppress the warning\n",
      "  super()._check_params_vs_input(X, default_n_init=10)\n",
      "C:\\Users\\ekasu\\anaconda3\\Lib\\site-packages\\sklearn\\cluster\\_kmeans.py:1436: UserWarning: KMeans is known to have a memory leak on Windows with MKL, when there are less chunks than available threads. You can avoid it by setting the environment variable OMP_NUM_THREADS=1.\n",
      "  warnings.warn(\n",
      "C:\\Users\\ekasu\\anaconda3\\Lib\\site-packages\\sklearn\\cluster\\_kmeans.py:1412: FutureWarning: The default value of `n_init` will change from 10 to 'auto' in 1.4. Set the value of `n_init` explicitly to suppress the warning\n",
      "  super()._check_params_vs_input(X, default_n_init=10)\n",
      "C:\\Users\\ekasu\\anaconda3\\Lib\\site-packages\\sklearn\\cluster\\_kmeans.py:1436: UserWarning: KMeans is known to have a memory leak on Windows with MKL, when there are less chunks than available threads. You can avoid it by setting the environment variable OMP_NUM_THREADS=1.\n",
      "  warnings.warn(\n",
      "C:\\Users\\ekasu\\anaconda3\\Lib\\site-packages\\sklearn\\cluster\\_kmeans.py:1412: FutureWarning: The default value of `n_init` will change from 10 to 'auto' in 1.4. Set the value of `n_init` explicitly to suppress the warning\n",
      "  super()._check_params_vs_input(X, default_n_init=10)\n",
      "C:\\Users\\ekasu\\anaconda3\\Lib\\site-packages\\sklearn\\cluster\\_kmeans.py:1436: UserWarning: KMeans is known to have a memory leak on Windows with MKL, when there are less chunks than available threads. You can avoid it by setting the environment variable OMP_NUM_THREADS=1.\n",
      "  warnings.warn(\n"
     ]
    },
    {
     "data": {
      "image/png": "[encoded data removed]",
      "text/plain": [
       "<Figure size 640x480 with 1 Axes>"
      ]
     },
     "metadata": {},
     "output_type": "display_data"
    }
   ],
   "source": [
    "from sklearn.cluster import KMeans\n",
    "sse = []\n",
    "for i in range(1,11):\n",
    "    kmeans = KMeans(n_clusters=i, init='random', max_iter=300, random_state=42)\n",
    "    kmeans.fit(df_encoded)\n",
    "    sse.append(kmeans.inertia_)\n",
    "\n",
    "plt.plot(range(1,11), sse)\n",
    "plt.xlabel('Number of Clusters')\n",
    "plt.ylabel('SSE')\n",
    "plt.show()"
   ]
  },
  {
   "cell_type": "code",
   "execution_count": 27,
   "metadata": {
    "colab": {
     "base_uri": "https://localhost:8080/"
    },
    "id": "r4777AaK-Mlw",
    "outputId": "50afd73f-44f3-40a3-84b8-3d450acc0b34"
   },
   "outputs": [
    {
     "name": "stdout",
     "output_type": "stream",
     "text": [
      "The best k for you model is 2\n"
     ]
    }
   ],
   "source": [
    "from kneed import KneeLocator\n",
    "kneedle = KneeLocator(range(1,11), sse, curve=\"convex\", direction=\"decreasing\")\n",
    "print(\"The best k for you model is\", kneedle.elbow)"
   ]
  },
  {
   "cell_type": "markdown",
   "metadata": {
    "id": "riWXo9djBIkj"
   },
   "source": [
    "Train the K-Means model on the dataset with the number of clusters you have determined."
   ]
  },
  {
   "cell_type": "code",
   "execution_count": 28,
   "metadata": {
    "id": "mvT6Yql2BNMl"
   },
   "outputs": [
    {
     "name": "stderr",
     "output_type": "stream",
     "text": [
      "C:\\Users\\ekasu\\anaconda3\\Lib\\site-packages\\sklearn\\cluster\\_kmeans.py:1412: FutureWarning: The default value of `n_init` will change from 10 to 'auto' in 1.4. Set the value of `n_init` explicitly to suppress the warning\n",
      "  super()._check_params_vs_input(X, default_n_init=10)\n",
      "C:\\Users\\ekasu\\anaconda3\\Lib\\site-packages\\sklearn\\cluster\\_kmeans.py:1436: UserWarning: KMeans is known to have a memory leak on Windows with MKL, when there are less chunks than available threads. You can avoid it by setting the environment variable OMP_NUM_THREADS=1.\n",
      "  warnings.warn(\n"
     ]
    }
   ],
   "source": [
    "from sklearn.cluster import KMeans\n",
    "kmeans = KMeans(n_clusters=2, init='random',max_iter=300,random_state=42)\n",
    "\n",
    "y_pred = kmeans.fit_predict(df_encoded)"
   ]
  },
  {
   "cell_type": "code",
   "execution_count": 29,
   "metadata": {
    "colab": {
     "base_uri": "https://localhost:8080/",
     "height": 223
    },
    "id": "Ri2O0PufdZV4",
    "outputId": "a8622478-3619-4a7f-cc90-f103c73bba9f"
   },
   "outputs": [
    {
     "data": {
      "text/html": [
       "<div>\n",
       "<style scoped>\n",
       "    .dataframe tbody tr th:only-of-type {\n",
       "        vertical-align: middle;\n",
       "    }\n",
       "\n",
       "    .dataframe tbody tr th {\n",
       "        vertical-align: top;\n",
       "    }\n",
       "\n",
       "    .dataframe thead th {\n",
       "        text-align: right;\n",
       "    }\n",
       "</style>\n",
       "<table border=\"1\" class=\"dataframe\">\n",
       "  <thead>\n",
       "    <tr style=\"text-align: right;\">\n",
       "      <th></th>\n",
       "      <th>Country</th>\n",
       "      <th>Population</th>\n",
       "      <th>Continent</th>\n",
       "      <th>Total Cases</th>\n",
       "      <th>Total Deaths</th>\n",
       "      <th>Tot Cases per 1M pop</th>\n",
       "      <th>Tot Deaths per 1M pop</th>\n",
       "      <th>Death percentage</th>\n",
       "      <th>Cluster</th>\n",
       "    </tr>\n",
       "  </thead>\n",
       "  <tbody>\n",
       "    <tr>\n",
       "      <th>0</th>\n",
       "      <td>112.000000</td>\n",
       "      <td>5.621496e+15</td>\n",
       "      <td>3.223920</td>\n",
       "      <td>1.290982e+12</td>\n",
       "      <td>7.416307e+08</td>\n",
       "      <td>6.362588e+08</td>\n",
       "      <td>2.277772e+05</td>\n",
       "      <td>7.972833</td>\n",
       "      <td>1</td>\n",
       "    </tr>\n",
       "    <tr>\n",
       "      <th>1</th>\n",
       "      <td>176.951264</td>\n",
       "      <td>3.990541e+14</td>\n",
       "      <td>4.696728</td>\n",
       "      <td>1.988230e+12</td>\n",
       "      <td>3.376208e+08</td>\n",
       "      <td>1.380072e+10</td>\n",
       "      <td>1.451852e+06</td>\n",
       "      <td>2.749875</td>\n",
       "      <td>1</td>\n",
       "    </tr>\n",
       "    <tr>\n",
       "      <th>2</th>\n",
       "      <td>241.902528</td>\n",
       "      <td>6.284829e+15</td>\n",
       "      <td>1.751111</td>\n",
       "      <td>1.928853e+12</td>\n",
       "      <td>6.645797e+08</td>\n",
       "      <td>8.501810e+08</td>\n",
       "      <td>1.824411e+05</td>\n",
       "      <td>4.490861</td>\n",
       "      <td>1</td>\n",
       "    </tr>\n",
       "    <tr>\n",
       "      <th>3</th>\n",
       "      <td>306.853791</td>\n",
       "      <td>1.076463e+13</td>\n",
       "      <td>4.696728</td>\n",
       "      <td>2.905665e+11</td>\n",
       "      <td>1.481891e+07</td>\n",
       "      <td>7.476653e+10</td>\n",
       "      <td>2.357381e+06</td>\n",
       "      <td>1.008889</td>\n",
       "      <td>1</td>\n",
       "    </tr>\n",
       "    <tr>\n",
       "      <th>4</th>\n",
       "      <td>371.805055</td>\n",
       "      <td>4.814582e+15</td>\n",
       "      <td>1.751111</td>\n",
       "      <td>7.201259e+11</td>\n",
       "      <td>1.837123e+08</td>\n",
       "      <td>4.143760e+08</td>\n",
       "      <td>6.671476e+04</td>\n",
       "      <td>2.749875</td>\n",
       "      <td>1</td>\n",
       "    </tr>\n",
       "  </tbody>\n",
       "</table>\n",
       "</div>"
      ],
      "text/plain": [
       "      Country    Population  Continent   Total Cases  Total Deaths  \\\n",
       "0  112.000000  5.621496e+15   3.223920  1.290982e+12  7.416307e+08   \n",
       "1  176.951264  3.990541e+14   4.696728  1.988230e+12  3.376208e+08   \n",
       "2  241.902528  6.284829e+15   1.751111  1.928853e+12  6.645797e+08   \n",
       "3  306.853791  1.076463e+13   4.696728  2.905665e+11  1.481891e+07   \n",
       "4  371.805055  4.814582e+15   1.751111  7.201259e+11  1.837123e+08   \n",
       "\n",
       "   Tot Cases per 1M pop  Tot Deaths per 1M pop  Death percentage  Cluster  \n",
       "0          6.362588e+08           2.277772e+05          7.972833        1  \n",
       "1          1.380072e+10           1.451852e+06          2.749875        1  \n",
       "2          8.501810e+08           1.824411e+05          4.490861        1  \n",
       "3          7.476653e+10           2.357381e+06          1.008889        1  \n",
       "4          4.143760e+08           6.671476e+04          2.749875        1  "
      ]
     },
     "execution_count": 29,
     "metadata": {},
     "output_type": "execute_result"
    }
   ],
   "source": [
    "# Inverse transform the scaled data to get the original values\n",
    "df_inv = pd.DataFrame(sc.inverse_transform(df_dropped),columns=[\"Country\", \n",
    "                       \"Population\",  \n",
    "                       \"Continent\", \n",
    "                       \"Total Cases\", \n",
    "                       \"Total Deaths\", \n",
    "                       \"Tot Cases per 1M pop\", \n",
    "                       \"Tot Deaths per 1M pop\", \n",
    "                       \"Death percentage\"\n",
    "                      ])\n",
    "                                                                \n",
    "                                                                \n",
    "\n",
    "df_inv['Cluster'] = y_pred\n",
    "\n",
    "df_inv.head()"
   ]
  },
  {
   "cell_type": "markdown",
   "metadata": {
    "id": "DySLxlWqBNyH"
   },
   "source": [
    "Display the cluster summary in the form of a dataframe:\n",
    "\n",
    "1. For categorical columns: mode (use pd.Series.mode to find the mode; you do not need to use \" \" for this attribute).\n",
    "2. For continuous columns: mean.\n",
    "3. Cluster results: count."
   ]
  },
  {
   "cell_type": "code",
   "execution_count": 30,
   "metadata": {
    "colab": {
     "base_uri": "https://localhost:8080/",
     "height": 833
    },
    "id": "LPMJx0x_ZzRP",
    "outputId": "064111fd-e9e4-4a60-b718-225def2b1ba5"
   },
   "outputs": [
    {
     "data": {
      "text/html": [
       "<div>\n",
       "<style scoped>\n",
       "    .dataframe tbody tr th:only-of-type {\n",
       "        vertical-align: middle;\n",
       "    }\n",
       "\n",
       "    .dataframe tbody tr th {\n",
       "        vertical-align: top;\n",
       "    }\n",
       "\n",
       "    .dataframe thead th {\n",
       "        text-align: right;\n",
       "    }\n",
       "</style>\n",
       "<table border=\"1\" class=\"dataframe\">\n",
       "  <thead>\n",
       "    <tr style=\"text-align: right;\">\n",
       "      <th></th>\n",
       "      <th>cluster</th>\n",
       "      <th>0</th>\n",
       "      <th>1</th>\n",
       "    </tr>\n",
       "  </thead>\n",
       "  <tbody>\n",
       "    <tr>\n",
       "      <th rowspan=\"4\" valign=\"top\">Country</th>\n",
       "      <th>mean</th>\n",
       "      <td>4.463735e+03</td>\n",
       "      <td>7.412755e+03</td>\n",
       "    </tr>\n",
       "    <tr>\n",
       "      <th>std</th>\n",
       "      <td>2.296374e+03</td>\n",
       "      <td>4.235120e+03</td>\n",
       "    </tr>\n",
       "    <tr>\n",
       "      <th>min</th>\n",
       "      <td>2.839953e+03</td>\n",
       "      <td>1.120000e+02</td>\n",
       "    </tr>\n",
       "    <tr>\n",
       "      <th>max</th>\n",
       "      <td>6.087516e+03</td>\n",
       "      <td>1.466108e+04</td>\n",
       "    </tr>\n",
       "    <tr>\n",
       "      <th rowspan=\"4\" valign=\"top\">Population</th>\n",
       "      <th>mean</th>\n",
       "      <td>1.974974e+17</td>\n",
       "      <td>3.145219e+15</td>\n",
       "    </tr>\n",
       "    <tr>\n",
       "      <th>std</th>\n",
       "      <td>3.494331e+15</td>\n",
       "      <td>6.346760e+15</td>\n",
       "    </tr>\n",
       "    <tr>\n",
       "      <th>min</th>\n",
       "      <td>1.950265e+17</td>\n",
       "      <td>1.118754e+11</td>\n",
       "    </tr>\n",
       "    <tr>\n",
       "      <th>max</th>\n",
       "      <td>1.999682e+17</td>\n",
       "      <td>4.645897e+16</td>\n",
       "    </tr>\n",
       "    <tr>\n",
       "      <th rowspan=\"4\" valign=\"top\">Continent</th>\n",
       "      <th>mean</th>\n",
       "      <td>3.223920e+00</td>\n",
       "      <td>4.340084e+00</td>\n",
       "    </tr>\n",
       "    <tr>\n",
       "      <th>std</th>\n",
       "      <td>0.000000e+00</td>\n",
       "      <td>2.181224e+00</td>\n",
       "    </tr>\n",
       "    <tr>\n",
       "      <th>min</th>\n",
       "      <td>3.223920e+00</td>\n",
       "      <td>1.751111e+00</td>\n",
       "    </tr>\n",
       "    <tr>\n",
       "      <th>max</th>\n",
       "      <td>3.223920e+00</td>\n",
       "      <td>9.115155e+00</td>\n",
       "    </tr>\n",
       "    <tr>\n",
       "      <th rowspan=\"4\" valign=\"top\">Total Cases</th>\n",
       "      <th>mean</th>\n",
       "      <td>1.567518e+14</td>\n",
       "      <td>1.459738e+13</td>\n",
       "    </tr>\n",
       "    <tr>\n",
       "      <th>std</th>\n",
       "      <td>2.200918e+14</td>\n",
       "      <td>4.915905e+13</td>\n",
       "    </tr>\n",
       "    <tr>\n",
       "      <th>min</th>\n",
       "      <td>1.123362e+12</td>\n",
       "      <td>9.444533e+06</td>\n",
       "    </tr>\n",
       "    <tr>\n",
       "      <th>max</th>\n",
       "      <td>3.123802e+14</td>\n",
       "      <td>5.941312e+14</td>\n",
       "    </tr>\n",
       "    <tr>\n",
       "      <th rowspan=\"4\" valign=\"top\">Total Deaths</th>\n",
       "      <th>mean</th>\n",
       "      <td>2.542713e+10</td>\n",
       "      <td>2.449362e+09</td>\n",
       "    </tr>\n",
       "    <tr>\n",
       "      <th>std</th>\n",
       "      <td>3.532524e+10</td>\n",
       "      <td>8.842978e+09</td>\n",
       "    </tr>\n",
       "    <tr>\n",
       "      <th>min</th>\n",
       "      <td>4.484117e+08</td>\n",
       "      <td>2.744813e+04</td>\n",
       "    </tr>\n",
       "    <tr>\n",
       "      <th>max</th>\n",
       "      <td>5.040585e+10</td>\n",
       "      <td>9.747111e+10</td>\n",
       "    </tr>\n",
       "    <tr>\n",
       "      <th rowspan=\"4\" valign=\"top\">Tot Cases per 1M pop</th>\n",
       "      <th>mean</th>\n",
       "      <td>2.226274e+09</td>\n",
       "      <td>1.997252e+10</td>\n",
       "    </tr>\n",
       "    <tr>\n",
       "      <th>std</th>\n",
       "      <td>3.126127e+09</td>\n",
       "      <td>2.102223e+10</td>\n",
       "    </tr>\n",
       "    <tr>\n",
       "      <th>min</th>\n",
       "      <td>1.576856e+07</td>\n",
       "      <td>1.439539e+06</td>\n",
       "    </tr>\n",
       "    <tr>\n",
       "      <th>max</th>\n",
       "      <td>4.436779e+09</td>\n",
       "      <td>1.007439e+11</td>\n",
       "    </tr>\n",
       "    <tr>\n",
       "      <th rowspan=\"4\" valign=\"top\">Tot Deaths per 1M pop</th>\n",
       "      <th>mean</th>\n",
       "      <td>2.241981e+05</td>\n",
       "      <td>1.319273e+06</td>\n",
       "    </tr>\n",
       "    <tr>\n",
       "      <th>std</th>\n",
       "      <td>3.104513e+05</td>\n",
       "      <td>1.429074e+06</td>\n",
       "    </tr>\n",
       "    <tr>\n",
       "      <th>min</th>\n",
       "      <td>4.675882e+03</td>\n",
       "      <td>1.096716e+03</td>\n",
       "    </tr>\n",
       "    <tr>\n",
       "      <th>max</th>\n",
       "      <td>4.437203e+05</td>\n",
       "      <td>7.500643e+06</td>\n",
       "    </tr>\n",
       "    <tr>\n",
       "      <th rowspan=\"4\" valign=\"top\">Death percentage</th>\n",
       "      <th>mean</th>\n",
       "      <td>3.620368e+00</td>\n",
       "      <td>2.757682e+00</td>\n",
       "    </tr>\n",
       "    <tr>\n",
       "      <th>std</th>\n",
       "      <td>1.231063e+00</td>\n",
       "      <td>3.049235e+00</td>\n",
       "    </tr>\n",
       "    <tr>\n",
       "      <th>min</th>\n",
       "      <td>2.749875e+00</td>\n",
       "      <td>1.008889e+00</td>\n",
       "    </tr>\n",
       "    <tr>\n",
       "      <th>max</th>\n",
       "      <td>4.490861e+00</td>\n",
       "      <td>3.234664e+01</td>\n",
       "    </tr>\n",
       "  </tbody>\n",
       "</table>\n",
       "</div>"
      ],
      "text/plain": [
       "cluster                                0             1\n",
       "Country               mean  4.463735e+03  7.412755e+03\n",
       "                      std   2.296374e+03  4.235120e+03\n",
       "                      min   2.839953e+03  1.120000e+02\n",
       "                      max   6.087516e+03  1.466108e+04\n",
       "Population            mean  1.974974e+17  3.145219e+15\n",
       "                      std   3.494331e+15  6.346760e+15\n",
       "                      min   1.950265e+17  1.118754e+11\n",
       "                      max   1.999682e+17  4.645897e+16\n",
       "Continent             mean  3.223920e+00  4.340084e+00\n",
       "                      std   0.000000e+00  2.181224e+00\n",
       "                      min   3.223920e+00  1.751111e+00\n",
       "                      max   3.223920e+00  9.115155e+00\n",
       "Total Cases           mean  1.567518e+14  1.459738e+13\n",
       "                      std   2.200918e+14  4.915905e+13\n",
       "                      min   1.123362e+12  9.444533e+06\n",
       "                      max   3.123802e+14  5.941312e+14\n",
       "Total Deaths          mean  2.542713e+10  2.449362e+09\n",
       "                      std   3.532524e+10  8.842978e+09\n",
       "                      min   4.484117e+08  2.744813e+04\n",
       "                      max   5.040585e+10  9.747111e+10\n",
       "Tot Cases per 1M pop  mean  2.226274e+09  1.997252e+10\n",
       "                      std   3.126127e+09  2.102223e+10\n",
       "                      min   1.576856e+07  1.439539e+06\n",
       "                      max   4.436779e+09  1.007439e+11\n",
       "Tot Deaths per 1M pop mean  2.241981e+05  1.319273e+06\n",
       "                      std   3.104513e+05  1.429074e+06\n",
       "                      min   4.675882e+03  1.096716e+03\n",
       "                      max   4.437203e+05  7.500643e+06\n",
       "Death percentage      mean  3.620368e+00  2.757682e+00\n",
       "                      std   1.231063e+00  3.049235e+00\n",
       "                      min   2.749875e+00  1.008889e+00\n",
       "                      max   4.490861e+00  3.234664e+01"
      ]
     },
     "execution_count": 30,
     "metadata": {},
     "output_type": "execute_result"
    }
   ],
   "source": [
    "# aggregation\n",
    "cluster_summary = df_inv.groupby(y_pred).agg(\n",
    "    {\n",
    "        'Country': ['mean', 'std', 'min', 'max'],\n",
    "        'Population': ['mean', 'std', 'min', 'max'],\n",
    "        'Continent': ['mean', 'std', 'min', 'max'],\n",
    "        'Total Cases': ['mean', 'std', 'min', 'max'],\n",
    "        'Total Deaths': ['mean', 'std', 'min', 'max'],\n",
    "        'Tot Cases per 1M pop': ['mean', 'std', 'min', 'max'],\n",
    "        'Tot Deaths per 1M pop': ['mean', 'std', 'min', 'max'],\n",
    "        'Death percentage': ['mean', 'std', 'min', 'max']\n",
    "    }\n",
    ")\n",
    "\n",
    "cluster_summary = cluster_summary.rename_axis('cluster')\n",
    "\n",
    "cluster_summary = cluster_summary.transpose()\n",
    "\n",
    "cluster_summary"
   ]
  },
  {
   "cell_type": "code",
   "execution_count": 31,
   "metadata": {
    "colab": {
     "base_uri": "https://localhost:8080/",
     "height": 209
    },
    "id": "zkHim7jnHmqC",
    "outputId": "6f009956-524f-439d-de8c-2760ad503871"
   },
   "outputs": [
    {
     "data": {
      "text/plain": [
       "1    223\n",
       "0      2\n",
       "Name: Cluster, dtype: int64"
      ]
     },
     "execution_count": 31,
     "metadata": {},
     "output_type": "execute_result"
    }
   ],
   "source": [
    "# count data from each cluster\n",
    "df_inv.Cluster.value_counts()"
   ]
  },
  {
   "cell_type": "code",
   "execution_count": 122,
   "metadata": {
    "id": "K2eeKnk4PNyU"
   },
   "outputs": [
    {
     "name": "stdout",
     "output_type": "stream",
     "text": [
      "\n"
     ]
    }
   ],
   "source": [
    "# write down your interpretation from the cluster that you have been made\n",
    "print(\"\")"
   ]
  },
  {
   "cell_type": "markdown",
   "metadata": {
    "id": "OZruhWh5BSt7"
   },
   "source": [
    "## Hierarchical Clustering\n",
    "Hierarchical clustering uses the agglomerative method."
   ]
  },
  {
   "cell_type": "code",
   "execution_count": 115,
   "metadata": {
    "colab": {
     "base_uri": "https://localhost:8080/",
     "height": 472
    },
    "id": "hLPZ-92ZKH9v",
    "outputId": "c1ca6d04-b34e-4c57-b91e-df4400352387"
   },
   "outputs": [
    {
     "data": {
      "image/png": "[encoded data removed]",
      "text/plain": [
       "<Figure size 640x480 with 1 Axes>"
      ]
     },
     "metadata": {},
     "output_type": "display_data"
    }
   ],
   "source": [
    "# The image below is not the final result, if yours looks different, that’s okay.\n",
    "silhouette_scores = []\n",
    "\n",
    "for i in range(2, 11):\n",
    "    cluster_labels = fcluster(linkage(df_inv, method='ward'), i, criterion='maxclust')\n",
    "    silhouette_avg = silhouette_score(df_inv, cluster_labels)\n",
    "    silhouette_scores.append(silhouette_avg)\n",
    "\n",
    "# Plot Silhouette Score = the higher the better\n",
    "plt.plot(range(2, 11), silhouette_scores, marker='o')\n",
    "plt.xlabel(\"Number of Clusters\")\n",
    "plt.ylabel(\"Silhouette Score\")\n",
    "plt.title(\"Silhouette Score\")\n",
    "plt.show()"
   ]
  },
  {
   "cell_type": "markdown",
   "metadata": {
    "id": "JPMw9jAiJRsE"
   },
   "source": [
    "Perform hierarchical clustering with the Euclidean distance metric and set the number of clusters based on silhouette score."
   ]
  },
  {
   "cell_type": "code",
   "execution_count": 125,
   "metadata": {
    "id": "-3Ep2nP0JYIw"
   },
   "outputs": [],
   "source": [
    "# agglomerative clustering\n",
    "from sklearn.cluster import AgglomerativeClustering\n",
    "hc = AgglomerativeClustering(n_clusters = 4, metric='euclidean', linkage='ward')\n",
    "y_hc = hc.fit_predict(df_inv)"
   ]
  },
  {
   "cell_type": "code",
   "execution_count": 128,
   "metadata": {
    "colab": {
     "base_uri": "https://localhost:8080/",
     "height": 240
    },
    "id": "iNPihcv49JcE",
    "outputId": "bb181e5e-6c22-481d-b0fe-1bae17c1b4ec"
   },
   "outputs": [
    {
     "data": {
      "text/html": [
       "<div>\n",
       "<style scoped>\n",
       "    .dataframe tbody tr th:only-of-type {\n",
       "        vertical-align: middle;\n",
       "    }\n",
       "\n",
       "    .dataframe tbody tr th {\n",
       "        vertical-align: top;\n",
       "    }\n",
       "\n",
       "    .dataframe thead th {\n",
       "        text-align: right;\n",
       "    }\n",
       "</style>\n",
       "<table border=\"1\" class=\"dataframe\">\n",
       "  <thead>\n",
       "    <tr style=\"text-align: right;\">\n",
       "      <th></th>\n",
       "      <th>Country</th>\n",
       "      <th>Population</th>\n",
       "      <th>Continent</th>\n",
       "      <th>Total Cases</th>\n",
       "      <th>Total Deaths</th>\n",
       "      <th>Tot Cases per 1M pop</th>\n",
       "      <th>Tot Deaths per 1M pop</th>\n",
       "      <th>Death percentage</th>\n",
       "      <th>KMeans</th>\n",
       "      <th>Agglo</th>\n",
       "    </tr>\n",
       "  </thead>\n",
       "  <tbody>\n",
       "    <tr>\n",
       "      <th>0</th>\n",
       "      <td>112.000000</td>\n",
       "      <td>5.621496e+15</td>\n",
       "      <td>3.223920</td>\n",
       "      <td>1.290982e+12</td>\n",
       "      <td>7.416307e+08</td>\n",
       "      <td>6.362588e+08</td>\n",
       "      <td>2.277772e+05</td>\n",
       "      <td>7.972833</td>\n",
       "      <td>1</td>\n",
       "      <td>0</td>\n",
       "    </tr>\n",
       "    <tr>\n",
       "      <th>1</th>\n",
       "      <td>176.951264</td>\n",
       "      <td>3.990541e+14</td>\n",
       "      <td>4.696728</td>\n",
       "      <td>1.988230e+12</td>\n",
       "      <td>3.376208e+08</td>\n",
       "      <td>1.380072e+10</td>\n",
       "      <td>1.451852e+06</td>\n",
       "      <td>2.749875</td>\n",
       "      <td>1</td>\n",
       "      <td>0</td>\n",
       "    </tr>\n",
       "    <tr>\n",
       "      <th>2</th>\n",
       "      <td>241.902528</td>\n",
       "      <td>6.284829e+15</td>\n",
       "      <td>1.751111</td>\n",
       "      <td>1.928853e+12</td>\n",
       "      <td>6.645797e+08</td>\n",
       "      <td>8.501810e+08</td>\n",
       "      <td>1.824411e+05</td>\n",
       "      <td>4.490861</td>\n",
       "      <td>1</td>\n",
       "      <td>0</td>\n",
       "    </tr>\n",
       "    <tr>\n",
       "      <th>3</th>\n",
       "      <td>306.853791</td>\n",
       "      <td>1.076463e+13</td>\n",
       "      <td>4.696728</td>\n",
       "      <td>2.905665e+11</td>\n",
       "      <td>1.481891e+07</td>\n",
       "      <td>7.476653e+10</td>\n",
       "      <td>2.357381e+06</td>\n",
       "      <td>1.008889</td>\n",
       "      <td>1</td>\n",
       "      <td>0</td>\n",
       "    </tr>\n",
       "    <tr>\n",
       "      <th>4</th>\n",
       "      <td>371.805055</td>\n",
       "      <td>4.814582e+15</td>\n",
       "      <td>1.751111</td>\n",
       "      <td>7.201259e+11</td>\n",
       "      <td>1.837123e+08</td>\n",
       "      <td>4.143760e+08</td>\n",
       "      <td>6.671476e+04</td>\n",
       "      <td>2.749875</td>\n",
       "      <td>1</td>\n",
       "      <td>0</td>\n",
       "    </tr>\n",
       "  </tbody>\n",
       "</table>\n",
       "</div>"
      ],
      "text/plain": [
       "      Country    Population  Continent   Total Cases  Total Deaths  \\\n",
       "0  112.000000  5.621496e+15   3.223920  1.290982e+12  7.416307e+08   \n",
       "1  176.951264  3.990541e+14   4.696728  1.988230e+12  3.376208e+08   \n",
       "2  241.902528  6.284829e+15   1.751111  1.928853e+12  6.645797e+08   \n",
       "3  306.853791  1.076463e+13   4.696728  2.905665e+11  1.481891e+07   \n",
       "4  371.805055  4.814582e+15   1.751111  7.201259e+11  1.837123e+08   \n",
       "\n",
       "   Tot Cases per 1M pop  Tot Deaths per 1M pop  Death percentage  KMeans  \\\n",
       "0          6.362588e+08           2.277772e+05          7.972833       1   \n",
       "1          1.380072e+10           1.451852e+06          2.749875       1   \n",
       "2          8.501810e+08           1.824411e+05          4.490861       1   \n",
       "3          7.476653e+10           2.357381e+06          1.008889       1   \n",
       "4          4.143760e+08           6.671476e+04          2.749875       1   \n",
       "\n",
       "   Agglo  \n",
       "0      0  \n",
       "1      0  \n",
       "2      0  \n",
       "3      0  \n",
       "4      0  "
      ]
     },
     "execution_count": 128,
     "metadata": {},
     "output_type": "execute_result"
    }
   ],
   "source": [
    "# Add the cluster labels to the original data that you have been added with kmeans so you have a full dataframe include kmeans and agglo clustering\n",
    "df_imputed_inversed = pd.DataFrame(sc.inverse_transform(df_dropped),columns=[\"Country\", \n",
    "                       \"Population\",  \n",
    "                       \"Continent\", \n",
    "                       \"Total Cases\", \n",
    "                       \"Total Deaths\", \n",
    "                       \"Tot Cases per 1M pop\", \n",
    "                       \"Tot Deaths per 1M pop\", \n",
    "                       \"Death percentage\"\n",
    "                      ])\n",
    "\n",
    "df_imputed_inversed['KMeans'] = y_pred\n",
    "df_imputed_inversed['Agglo'] = y_hc\n",
    "\n",
    "# show the df\n",
    "df_imputed_inversed.head()"
   ]
  },
  {
   "cell_type": "markdown",
   "metadata": {
    "id": "lzXuHhs1JY72"
   },
   "source": [
    "Display the cluster summary in the form of a dataframe."
   ]
  },
  {
   "cell_type": "code",
   "execution_count": 129,
   "metadata": {
    "colab": {
     "base_uri": "https://localhost:8080/",
     "height": 206
    },
    "id": "7ZGhU79dNlXk",
    "outputId": "708fd945-2915-4497-8668-8ff867cfbf1c"
   },
   "outputs": [
    {
     "data": {
      "text/html": [
       "<div>\n",
       "<style scoped>\n",
       "    .dataframe tbody tr th:only-of-type {\n",
       "        vertical-align: middle;\n",
       "    }\n",
       "\n",
       "    .dataframe tbody tr th {\n",
       "        vertical-align: top;\n",
       "    }\n",
       "\n",
       "    .dataframe thead th {\n",
       "        text-align: right;\n",
       "    }\n",
       "</style>\n",
       "<table border=\"1\" class=\"dataframe\">\n",
       "  <thead>\n",
       "    <tr style=\"text-align: right;\">\n",
       "      <th></th>\n",
       "      <th>cluster</th>\n",
       "      <th>0</th>\n",
       "      <th>1</th>\n",
       "    </tr>\n",
       "  </thead>\n",
       "  <tbody>\n",
       "    <tr>\n",
       "      <th rowspan=\"4\" valign=\"top\">Country</th>\n",
       "      <th>mean</th>\n",
       "      <td>4.463735e+03</td>\n",
       "      <td>7.412755e+03</td>\n",
       "    </tr>\n",
       "    <tr>\n",
       "      <th>std</th>\n",
       "      <td>2.296374e+03</td>\n",
       "      <td>4.235120e+03</td>\n",
       "    </tr>\n",
       "    <tr>\n",
       "      <th>min</th>\n",
       "      <td>2.839953e+03</td>\n",
       "      <td>1.120000e+02</td>\n",
       "    </tr>\n",
       "    <tr>\n",
       "      <th>max</th>\n",
       "      <td>6.087516e+03</td>\n",
       "      <td>1.466108e+04</td>\n",
       "    </tr>\n",
       "    <tr>\n",
       "      <th rowspan=\"4\" valign=\"top\">Population</th>\n",
       "      <th>mean</th>\n",
       "      <td>1.974974e+17</td>\n",
       "      <td>3.145219e+15</td>\n",
       "    </tr>\n",
       "    <tr>\n",
       "      <th>std</th>\n",
       "      <td>3.494331e+15</td>\n",
       "      <td>6.346760e+15</td>\n",
       "    </tr>\n",
       "    <tr>\n",
       "      <th>min</th>\n",
       "      <td>1.950265e+17</td>\n",
       "      <td>1.118754e+11</td>\n",
       "    </tr>\n",
       "    <tr>\n",
       "      <th>max</th>\n",
       "      <td>1.999682e+17</td>\n",
       "      <td>4.645897e+16</td>\n",
       "    </tr>\n",
       "    <tr>\n",
       "      <th rowspan=\"4\" valign=\"top\">Continent</th>\n",
       "      <th>mean</th>\n",
       "      <td>3.223920e+00</td>\n",
       "      <td>4.340084e+00</td>\n",
       "    </tr>\n",
       "    <tr>\n",
       "      <th>std</th>\n",
       "      <td>0.000000e+00</td>\n",
       "      <td>2.181224e+00</td>\n",
       "    </tr>\n",
       "    <tr>\n",
       "      <th>min</th>\n",
       "      <td>3.223920e+00</td>\n",
       "      <td>1.751111e+00</td>\n",
       "    </tr>\n",
       "    <tr>\n",
       "      <th>max</th>\n",
       "      <td>3.223920e+00</td>\n",
       "      <td>9.115155e+00</td>\n",
       "    </tr>\n",
       "    <tr>\n",
       "      <th rowspan=\"4\" valign=\"top\">Total Cases</th>\n",
       "      <th>mean</th>\n",
       "      <td>1.567518e+14</td>\n",
       "      <td>1.459738e+13</td>\n",
       "    </tr>\n",
       "    <tr>\n",
       "      <th>std</th>\n",
       "      <td>2.200918e+14</td>\n",
       "      <td>4.915905e+13</td>\n",
       "    </tr>\n",
       "    <tr>\n",
       "      <th>min</th>\n",
       "      <td>1.123362e+12</td>\n",
       "      <td>9.444533e+06</td>\n",
       "    </tr>\n",
       "    <tr>\n",
       "      <th>max</th>\n",
       "      <td>3.123802e+14</td>\n",
       "      <td>5.941312e+14</td>\n",
       "    </tr>\n",
       "    <tr>\n",
       "      <th rowspan=\"4\" valign=\"top\">Total Deaths</th>\n",
       "      <th>mean</th>\n",
       "      <td>2.542713e+10</td>\n",
       "      <td>2.449362e+09</td>\n",
       "    </tr>\n",
       "    <tr>\n",
       "      <th>std</th>\n",
       "      <td>3.532524e+10</td>\n",
       "      <td>8.842978e+09</td>\n",
       "    </tr>\n",
       "    <tr>\n",
       "      <th>min</th>\n",
       "      <td>4.484117e+08</td>\n",
       "      <td>2.744813e+04</td>\n",
       "    </tr>\n",
       "    <tr>\n",
       "      <th>max</th>\n",
       "      <td>5.040585e+10</td>\n",
       "      <td>9.747111e+10</td>\n",
       "    </tr>\n",
       "    <tr>\n",
       "      <th rowspan=\"4\" valign=\"top\">Tot Cases per 1M pop</th>\n",
       "      <th>mean</th>\n",
       "      <td>2.226274e+09</td>\n",
       "      <td>1.997252e+10</td>\n",
       "    </tr>\n",
       "    <tr>\n",
       "      <th>std</th>\n",
       "      <td>3.126127e+09</td>\n",
       "      <td>2.102223e+10</td>\n",
       "    </tr>\n",
       "    <tr>\n",
       "      <th>min</th>\n",
       "      <td>1.576856e+07</td>\n",
       "      <td>1.439539e+06</td>\n",
       "    </tr>\n",
       "    <tr>\n",
       "      <th>max</th>\n",
       "      <td>4.436779e+09</td>\n",
       "      <td>1.007439e+11</td>\n",
       "    </tr>\n",
       "    <tr>\n",
       "      <th rowspan=\"4\" valign=\"top\">Tot Deaths per 1M pop</th>\n",
       "      <th>mean</th>\n",
       "      <td>2.241981e+05</td>\n",
       "      <td>1.319273e+06</td>\n",
       "    </tr>\n",
       "    <tr>\n",
       "      <th>std</th>\n",
       "      <td>3.104513e+05</td>\n",
       "      <td>1.429074e+06</td>\n",
       "    </tr>\n",
       "    <tr>\n",
       "      <th>min</th>\n",
       "      <td>4.675882e+03</td>\n",
       "      <td>1.096716e+03</td>\n",
       "    </tr>\n",
       "    <tr>\n",
       "      <th>max</th>\n",
       "      <td>4.437203e+05</td>\n",
       "      <td>7.500643e+06</td>\n",
       "    </tr>\n",
       "    <tr>\n",
       "      <th rowspan=\"4\" valign=\"top\">Death percentage</th>\n",
       "      <th>mean</th>\n",
       "      <td>3.620368e+00</td>\n",
       "      <td>2.757682e+00</td>\n",
       "    </tr>\n",
       "    <tr>\n",
       "      <th>std</th>\n",
       "      <td>1.231063e+00</td>\n",
       "      <td>3.049235e+00</td>\n",
       "    </tr>\n",
       "    <tr>\n",
       "      <th>min</th>\n",
       "      <td>2.749875e+00</td>\n",
       "      <td>1.008889e+00</td>\n",
       "    </tr>\n",
       "    <tr>\n",
       "      <th>max</th>\n",
       "      <td>4.490861e+00</td>\n",
       "      <td>3.234664e+01</td>\n",
       "    </tr>\n",
       "  </tbody>\n",
       "</table>\n",
       "</div>"
      ],
      "text/plain": [
       "cluster                                0             1\n",
       "Country               mean  4.463735e+03  7.412755e+03\n",
       "                      std   2.296374e+03  4.235120e+03\n",
       "                      min   2.839953e+03  1.120000e+02\n",
       "                      max   6.087516e+03  1.466108e+04\n",
       "Population            mean  1.974974e+17  3.145219e+15\n",
       "                      std   3.494331e+15  6.346760e+15\n",
       "                      min   1.950265e+17  1.118754e+11\n",
       "                      max   1.999682e+17  4.645897e+16\n",
       "Continent             mean  3.223920e+00  4.340084e+00\n",
       "                      std   0.000000e+00  2.181224e+00\n",
       "                      min   3.223920e+00  1.751111e+00\n",
       "                      max   3.223920e+00  9.115155e+00\n",
       "Total Cases           mean  1.567518e+14  1.459738e+13\n",
       "                      std   2.200918e+14  4.915905e+13\n",
       "                      min   1.123362e+12  9.444533e+06\n",
       "                      max   3.123802e+14  5.941312e+14\n",
       "Total Deaths          mean  2.542713e+10  2.449362e+09\n",
       "                      std   3.532524e+10  8.842978e+09\n",
       "                      min   4.484117e+08  2.744813e+04\n",
       "                      max   5.040585e+10  9.747111e+10\n",
       "Tot Cases per 1M pop  mean  2.226274e+09  1.997252e+10\n",
       "                      std   3.126127e+09  2.102223e+10\n",
       "                      min   1.576856e+07  1.439539e+06\n",
       "                      max   4.436779e+09  1.007439e+11\n",
       "Tot Deaths per 1M pop mean  2.241981e+05  1.319273e+06\n",
       "                      std   3.104513e+05  1.429074e+06\n",
       "                      min   4.675882e+03  1.096716e+03\n",
       "                      max   4.437203e+05  7.500643e+06\n",
       "Death percentage      mean  3.620368e+00  2.757682e+00\n",
       "                      std   1.231063e+00  3.049235e+00\n",
       "                      min   2.749875e+00  1.008889e+00\n",
       "                      max   4.490861e+00  3.234664e+01"
      ]
     },
     "execution_count": 129,
     "metadata": {},
     "output_type": "execute_result"
    }
   ],
   "source": [
    "cluster_summary = df_inv.groupby(y_pred).agg(\n",
    "    {\n",
    "        'Country': ['mean', 'std', 'min', 'max'],\n",
    "        'Population': ['mean', 'std', 'min', 'max'],\n",
    "        'Continent': ['mean', 'std', 'min', 'max'],\n",
    "        'Total Cases': ['mean', 'std', 'min', 'max'],\n",
    "        'Total Deaths': ['mean', 'std', 'min', 'max'],\n",
    "        'Tot Cases per 1M pop': ['mean', 'std', 'min', 'max'],\n",
    "        'Tot Deaths per 1M pop': ['mean', 'std', 'min', 'max'],\n",
    "        'Death percentage': ['mean', 'std', 'min', 'max']\n",
    "    }\n",
    ")\n",
    "\n",
    "cluster_summary = cluster_summary.rename_axis('cluster')\n",
    "\n",
    "cluster_summary = cluster_summary.transpose()\n",
    "\n",
    "cluster_summary"
   ]
  },
  {
   "cell_type": "code",
   "execution_count": 109,
   "metadata": {
    "colab": {
     "base_uri": "https://localhost:8080/",
     "height": 206
    },
    "id": "L95iG49xHiw-",
    "outputId": "a6ef6d5d-c3a5-4ebb-aa2f-e2544c39145e"
   },
   "outputs": [
    {
     "data": {
      "text/html": [
       "<div>\n",
       "<style scoped>\n",
       "    .dataframe tbody tr th:only-of-type {\n",
       "        vertical-align: middle;\n",
       "    }\n",
       "\n",
       "    .dataframe tbody tr th {\n",
       "        vertical-align: top;\n",
       "    }\n",
       "\n",
       "    .dataframe thead tr th {\n",
       "        text-align: left;\n",
       "    }\n",
       "\n",
       "    .dataframe thead tr:last-of-type th {\n",
       "        text-align: right;\n",
       "    }\n",
       "</style>\n",
       "<table border=\"1\" class=\"dataframe\">\n",
       "  <thead>\n",
       "    <tr>\n",
       "      <th></th>\n",
       "      <th colspan=\"4\" halign=\"left\">Harga Penawaran (dari Owner)</th>\n",
       "      <th colspan=\"4\" halign=\"left\">Terjual/Belum</th>\n",
       "      <th colspan=\"4\" halign=\"left\">Arah Hadap Rumah</th>\n",
       "      <th colspan=\"4\" halign=\"left\">Posisi Rumah</th>\n",
       "      <th colspan=\"4\" halign=\"left\">Lebar Jalan Depan Rumah (ROW)</th>\n",
       "    </tr>\n",
       "    <tr>\n",
       "      <th></th>\n",
       "      <th>mean</th>\n",
       "      <th>std</th>\n",
       "      <th>min</th>\n",
       "      <th>max</th>\n",
       "      <th>mean</th>\n",
       "      <th>std</th>\n",
       "      <th>min</th>\n",
       "      <th>max</th>\n",
       "      <th>mean</th>\n",
       "      <th>std</th>\n",
       "      <th>min</th>\n",
       "      <th>max</th>\n",
       "      <th>mean</th>\n",
       "      <th>std</th>\n",
       "      <th>min</th>\n",
       "      <th>max</th>\n",
       "      <th>mean</th>\n",
       "      <th>std</th>\n",
       "      <th>min</th>\n",
       "      <th>max</th>\n",
       "    </tr>\n",
       "    <tr>\n",
       "      <th>Agglo</th>\n",
       "      <th></th>\n",
       "      <th></th>\n",
       "      <th></th>\n",
       "      <th></th>\n",
       "      <th></th>\n",
       "      <th></th>\n",
       "      <th></th>\n",
       "      <th></th>\n",
       "      <th></th>\n",
       "      <th></th>\n",
       "      <th></th>\n",
       "      <th></th>\n",
       "      <th></th>\n",
       "      <th></th>\n",
       "      <th></th>\n",
       "      <th></th>\n",
       "      <th></th>\n",
       "      <th></th>\n",
       "      <th></th>\n",
       "      <th></th>\n",
       "    </tr>\n",
       "  </thead>\n",
       "  <tbody>\n",
       "    <tr>\n",
       "      <th>0</th>\n",
       "      <td>4.812799e+20</td>\n",
       "      <td>2.411640e+20</td>\n",
       "      <td>2.904276e+20</td>\n",
       "      <td>8.214951e+20</td>\n",
       "      <td>0.0</td>\n",
       "      <td>0.0</td>\n",
       "      <td>0.0</td>\n",
       "      <td>0.0</td>\n",
       "      <td>4.171431</td>\n",
       "      <td>1.427531</td>\n",
       "      <td>2.152597</td>\n",
       "      <td>5.180847</td>\n",
       "      <td>2.925980</td>\n",
       "      <td>0.189900</td>\n",
       "      <td>2.831030</td>\n",
       "      <td>3.210831</td>\n",
       "      <td>1.744605</td>\n",
       "      <td>1.103482</td>\n",
       "      <td>0.788961</td>\n",
       "      <td>2.700248</td>\n",
       "    </tr>\n",
       "    <tr>\n",
       "      <th>1</th>\n",
       "      <td>1.124542e+20</td>\n",
       "      <td>4.499939e+19</td>\n",
       "      <td>5.808551e+19</td>\n",
       "      <td>2.364910e+20</td>\n",
       "      <td>0.0</td>\n",
       "      <td>0.0</td>\n",
       "      <td>0.0</td>\n",
       "      <td>0.0</td>\n",
       "      <td>4.448525</td>\n",
       "      <td>0.990637</td>\n",
       "      <td>2.152597</td>\n",
       "      <td>5.180847</td>\n",
       "      <td>2.875713</td>\n",
       "      <td>0.210055</td>\n",
       "      <td>2.071429</td>\n",
       "      <td>3.590632</td>\n",
       "      <td>1.763343</td>\n",
       "      <td>0.964967</td>\n",
       "      <td>0.788961</td>\n",
       "      <td>2.700248</td>\n",
       "    </tr>\n",
       "    <tr>\n",
       "      <th>2</th>\n",
       "      <td>2.037581e+19</td>\n",
       "      <td>1.279467e+19</td>\n",
       "      <td>1.327669e+18</td>\n",
       "      <td>5.393655e+19</td>\n",
       "      <td>0.0</td>\n",
       "      <td>0.0</td>\n",
       "      <td>0.0</td>\n",
       "      <td>0.0</td>\n",
       "      <td>4.303094</td>\n",
       "      <td>1.022739</td>\n",
       "      <td>2.152597</td>\n",
       "      <td>5.180847</td>\n",
       "      <td>2.853548</td>\n",
       "      <td>0.126850</td>\n",
       "      <td>2.071429</td>\n",
       "      <td>3.590632</td>\n",
       "      <td>1.495306</td>\n",
       "      <td>0.898538</td>\n",
       "      <td>0.788961</td>\n",
       "      <td>2.700248</td>\n",
       "    </tr>\n",
       "  </tbody>\n",
       "</table>\n",
       "</div>"
      ],
      "text/plain": [
       "      Harga Penawaran (dari Owner)                                            \\\n",
       "                              mean           std           min           max   \n",
       "Agglo                                                                          \n",
       "0                     4.812799e+20  2.411640e+20  2.904276e+20  8.214951e+20   \n",
       "1                     1.124542e+20  4.499939e+19  5.808551e+19  2.364910e+20   \n",
       "2                     2.037581e+19  1.279467e+19  1.327669e+18  5.393655e+19   \n",
       "\n",
       "      Terjual/Belum                Arah Hadap Rumah                      \\\n",
       "               mean  std  min  max             mean       std       min   \n",
       "Agglo                                                                     \n",
       "0               0.0  0.0  0.0  0.0         4.171431  1.427531  2.152597   \n",
       "1               0.0  0.0  0.0  0.0         4.448525  0.990637  2.152597   \n",
       "2               0.0  0.0  0.0  0.0         4.303094  1.022739  2.152597   \n",
       "\n",
       "                Posisi Rumah                                \\\n",
       "            max         mean       std       min       max   \n",
       "Agglo                                                        \n",
       "0      5.180847     2.925980  0.189900  2.831030  3.210831   \n",
       "1      5.180847     2.875713  0.210055  2.071429  3.590632   \n",
       "2      5.180847     2.853548  0.126850  2.071429  3.590632   \n",
       "\n",
       "      Lebar Jalan Depan Rumah (ROW)                                \n",
       "                               mean       std       min       max  \n",
       "Agglo                                                              \n",
       "0                          1.744605  1.103482  0.788961  2.700248  \n",
       "1                          1.763343  0.964967  0.788961  2.700248  \n",
       "2                          1.495306  0.898538  0.788961  2.700248  "
      ]
     },
     "execution_count": 109,
     "metadata": {},
     "output_type": "execute_result"
    }
   ],
   "source": []
  },
  {
   "cell_type": "code",
   "execution_count": 130,
   "metadata": {
    "colab": {
     "base_uri": "https://localhost:8080/",
     "height": 209
    },
    "id": "41xVNZP4IJIj",
    "outputId": "964873c1-6960-4e1a-fb1c-5651f9eea3be"
   },
   "outputs": [
    {
     "data": {
      "text/plain": [
       "0    206\n",
       "1     12\n",
       "2      5\n",
       "3      2\n",
       "Name: Agglo, dtype: int64"
      ]
     },
     "execution_count": 130,
     "metadata": {},
     "output_type": "execute_result"
    }
   ],
   "source": [
    "df_imputed_inversed.Agglo.value_counts()"
   ]
  },
  {
   "cell_type": "code",
   "execution_count": 131,
   "metadata": {
    "id": "mDFCr5njP7Rf"
   },
   "outputs": [
    {
     "name": "stdout",
     "output_type": "stream",
     "text": [
      "\n"
     ]
    }
   ],
   "source": [
    "# write down your interpretation from the cluster that you have been made\n",
    "print(\"\")"
   ]
  },
  {
   "cell_type": "markdown",
   "metadata": {
    "id": "wU9hSggw_oQ1"
   },
   "source": [
    "**Hierarchical Visualization**"
   ]
  },
  {
   "cell_type": "markdown",
   "metadata": {
    "id": "6qpiPUi_qV19"
   },
   "source": [
    "Single Linkage"
   ]
  },
  {
   "cell_type": "code",
   "execution_count": 132,
   "metadata": {
    "colab": {
     "base_uri": "https://localhost:8080/",
     "height": 641
    },
    "id": "2r064c_9qLU9",
    "outputId": "e73c3418-638e-4b52-93eb-52efdd741eb1"
   },
   "outputs": [
    {
     "data": {
      "image/png": "[encoded data removed]",
      "text/plain": [
       "<Figure size 2000x700 with 1 Axes>"
      ]
     },
     "metadata": {},
     "output_type": "display_data"
    }
   ],
   "source": [
    "plt.figure(figsize=(20,7))\n",
    "linkage_data = linkage(scaled, method='single')\n",
    "dendrogram(linkage_data)\n",
    "plt.show()"
   ]
  },
  {
   "cell_type": "markdown",
   "metadata": {
    "id": "NLXusmjnqiKs"
   },
   "source": [
    "complete linkage"
   ]
  },
  {
   "cell_type": "code",
   "execution_count": 133,
   "metadata": {
    "colab": {
     "base_uri": "https://localhost:8080/",
     "height": 641
    },
    "id": "nY9cZ22PqmDv",
    "outputId": "8315f421-3b81-4f50-d411-6dc8b2dce796"
   },
   "outputs": [
    {
     "data": {
      "image/png": "[encoded data removed]",
      "text/plain": [
       "<Figure size 2000x700 with 1 Axes>"
      ]
     },
     "metadata": {},
     "output_type": "display_data"
    }
   ],
   "source": [
    "plt.figure(figsize=(20,7))\n",
    "linkage_data = linkage(scaled, method='complete')\n",
    "dendrogram(linkage_data)\n",
    "plt.show()"
   ]
  },
  {
   "cell_type": "markdown",
   "metadata": {
    "id": "KTzdIUgBqxlv"
   },
   "source": [
    "average linkage"
   ]
  },
  {
   "cell_type": "code",
   "execution_count": 134,
   "metadata": {
    "colab": {
     "base_uri": "https://localhost:8080/",
     "height": 641
    },
    "id": "SDVKBXKxq12g",
    "outputId": "565f3c45-6d8c-4e15-d710-b9d5e8111944"
   },
   "outputs": [
    {
     "data": {
      "image/png": "[encoded data removed]",
      "text/plain": [
       "<Figure size 2000x700 with 1 Axes>"
      ]
     },
     "metadata": {},
     "output_type": "display_data"
    }
   ],
   "source": [
    "plt.figure(figsize=(20,7))\n",
    "linkage_data = linkage(scaled, method='average')\n",
    "dendrogram(linkage_data)\n",
    "plt.show()"
   ]
  },
  {
   "cell_type": "markdown",
   "metadata": {
    "id": "Dh9oOv59q9E5"
   },
   "source": [
    "ward method"
   ]
  },
  {
   "cell_type": "code",
   "execution_count": 135,
   "metadata": {
    "colab": {
     "base_uri": "https://localhost:8080/",
     "height": 641
    },
    "id": "6315xN-arAp9",
    "outputId": "bc158e2d-6d1b-403e-f14b-72d2bd26cddf"
   },
   "outputs": [
    {
     "data": {
      "image/png": "[encoded data removed]",
      "text/plain": [
       "<Figure size 2000x700 with 1 Axes>"
      ]
     },
     "metadata": {},
     "output_type": "display_data"
    }
   ],
   "source": [
    "plt.figure(figsize=(20,7))\n",
    "linkage_data = linkage(scaled, method='ward')\n",
    "dendrogram(linkage_data)\n",
    "plt.show()"
   ]
  },
  {
   "cell_type": "code",
   "execution_count": null,
   "metadata": {},
   "outputs": [],
   "source": []
  }
 ],
 "metadata": {
  "colab": {
   "provenance": []
  },
  "kernelspec": {
   "display_name": "Python 3 (ipykernel)",
   "language": "python",
   "name": "python3"
  },
  "language_info": {
   "codemirror_mode": {
    "name": "ipython",
    "version": 3
   },
   "file_extension": ".py",
   "mimetype": "text/x-python",
   "name": "python",
   "nbconvert_exporter": "python",
   "pygments_lexer": "ipython3",
   "version": "3.11.4"
  }
 },
 "nbformat": 4,
 "nbformat_minor": 1
}
